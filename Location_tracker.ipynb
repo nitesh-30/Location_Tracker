{
  "nbformat": 4,
  "nbformat_minor": 0,
  "metadata": {
    "colab": {
      "provenance": []
    },
    "kernelspec": {
      "name": "python3",
      "display_name": "Python 3"
    },
    "language_info": {
      "name": "python"
    }
  },
  "cells": [
    {
      "cell_type": "code",
      "execution_count": 315,
      "metadata": {
        "colab": {
          "base_uri": "https://localhost:8080/"
        },
        "id": "8li1TQIu9fhu",
        "outputId": "d265ea4a-2bac-4e33-f0ea-aa54df509c07"
      },
      "outputs": [
        {
          "output_type": "stream",
          "name": "stdout",
          "text": [
            "Populating the interactive namespace from numpy and matplotlib\n"
          ]
        }
      ],
      "source": [
        "import numpy as np\n",
        "import pandas as pd\n",
        "import os\n",
        "import time, calendar, datetime\n",
        "import matplotlib.pyplot as plt\n",
        "%matplotlib inline\n",
        "%pylab inline\n",
        "import glob\n",
        "import warnings\n",
        "warnings.filterwarnings('ignore')\n",
        "from sklearn.cluster import DBSCAN\n",
        "from sklearn import metrics\n",
        "from geopy.distance import great_circle\n",
        "from sklearn import preprocessing\n",
        "from sklearn.cluster import KMeans\n",
        "from collections import Counter\n",
        "import plotly.express as px"
      ]
    },
    {
      "cell_type": "code",
      "source": [
        "!pip install markovify"
      ],
      "metadata": {
        "colab": {
          "base_uri": "https://localhost:8080/"
        },
        "id": "2DBFQehM9hL0",
        "outputId": "48c2eb7b-8c11-4ae6-cb87-1819bfc59c3e"
      },
      "execution_count": 316,
      "outputs": [
        {
          "output_type": "stream",
          "name": "stdout",
          "text": [
            "Looking in indexes: https://pypi.org/simple, https://us-python.pkg.dev/colab-wheels/public/simple/\n",
            "Requirement already satisfied: markovify in /usr/local/lib/python3.9/dist-packages (0.9.4)\n",
            "Requirement already satisfied: unidecode in /usr/local/lib/python3.9/dist-packages (from markovify) (1.3.6)\n"
          ]
        }
      ]
    },
    {
      "cell_type": "code",
      "source": [
        "!pip install modules\n"
      ],
      "metadata": {
        "colab": {
          "base_uri": "https://localhost:8080/"
        },
        "id": "arp3su8c9ycO",
        "outputId": "5ab1d8f4-d11a-4cfa-c97f-f8b58d640d07"
      },
      "execution_count": 317,
      "outputs": [
        {
          "output_type": "stream",
          "name": "stdout",
          "text": [
            "Looking in indexes: https://pypi.org/simple, https://us-python.pkg.dev/colab-wheels/public/simple/\n",
            "Requirement already satisfied: modules in /usr/local/lib/python3.9/dist-packages (1.0.0)\n"
          ]
        }
      ]
    },
    {
      "cell_type": "code",
      "source": [
        "df = pd.read_csv('/content/data (2).csv')\n",
        "\n"
      ],
      "metadata": {
        "id": "8xl499xh-BT5"
      },
      "execution_count": 318,
      "outputs": []
    },
    {
      "cell_type": "code",
      "source": [
        "df[:5]"
      ],
      "metadata": {
        "id": "pt_Pq9W2Ycsz",
        "colab": {
          "base_uri": "https://localhost:8080/",
          "height": 206
        },
        "outputId": "b96ee098-509b-40ae-832c-7fcb8245645d"
      },
      "execution_count": 319,
      "outputs": [
        {
          "output_type": "execute_result",
          "data": {
            "text/plain": [
              "         lat       long        Timestamp\n",
              "0  19.001965  73.055221  3/23/2023 22:26\n",
              "1  19.076743  72.951533   2/7/2023 17:59\n",
              "2  19.328718  72.783555    3/3/2023 5:32\n",
              "3  19.523080  73.200119  1/26/2023 19:32\n",
              "4  19.354632  72.418512   1/9/2023 20:50"
            ],
            "text/html": [
              "\n",
              "  <div id=\"df-a40ab1e8-59d7-4f0c-a50b-fa35737eb6f6\">\n",
              "    <div class=\"colab-df-container\">\n",
              "      <div>\n",
              "<style scoped>\n",
              "    .dataframe tbody tr th:only-of-type {\n",
              "        vertical-align: middle;\n",
              "    }\n",
              "\n",
              "    .dataframe tbody tr th {\n",
              "        vertical-align: top;\n",
              "    }\n",
              "\n",
              "    .dataframe thead th {\n",
              "        text-align: right;\n",
              "    }\n",
              "</style>\n",
              "<table border=\"1\" class=\"dataframe\">\n",
              "  <thead>\n",
              "    <tr style=\"text-align: right;\">\n",
              "      <th></th>\n",
              "      <th>lat</th>\n",
              "      <th>long</th>\n",
              "      <th>Timestamp</th>\n",
              "    </tr>\n",
              "  </thead>\n",
              "  <tbody>\n",
              "    <tr>\n",
              "      <th>0</th>\n",
              "      <td>19.001965</td>\n",
              "      <td>73.055221</td>\n",
              "      <td>3/23/2023 22:26</td>\n",
              "    </tr>\n",
              "    <tr>\n",
              "      <th>1</th>\n",
              "      <td>19.076743</td>\n",
              "      <td>72.951533</td>\n",
              "      <td>2/7/2023 17:59</td>\n",
              "    </tr>\n",
              "    <tr>\n",
              "      <th>2</th>\n",
              "      <td>19.328718</td>\n",
              "      <td>72.783555</td>\n",
              "      <td>3/3/2023 5:32</td>\n",
              "    </tr>\n",
              "    <tr>\n",
              "      <th>3</th>\n",
              "      <td>19.523080</td>\n",
              "      <td>73.200119</td>\n",
              "      <td>1/26/2023 19:32</td>\n",
              "    </tr>\n",
              "    <tr>\n",
              "      <th>4</th>\n",
              "      <td>19.354632</td>\n",
              "      <td>72.418512</td>\n",
              "      <td>1/9/2023 20:50</td>\n",
              "    </tr>\n",
              "  </tbody>\n",
              "</table>\n",
              "</div>\n",
              "      <button class=\"colab-df-convert\" onclick=\"convertToInteractive('df-a40ab1e8-59d7-4f0c-a50b-fa35737eb6f6')\"\n",
              "              title=\"Convert this dataframe to an interactive table.\"\n",
              "              style=\"display:none;\">\n",
              "        \n",
              "  <svg xmlns=\"http://www.w3.org/2000/svg\" height=\"24px\"viewBox=\"0 0 24 24\"\n",
              "       width=\"24px\">\n",
              "    <path d=\"M0 0h24v24H0V0z\" fill=\"none\"/>\n",
              "    <path d=\"M18.56 5.44l.94 2.06.94-2.06 2.06-.94-2.06-.94-.94-2.06-.94 2.06-2.06.94zm-11 1L8.5 8.5l.94-2.06 2.06-.94-2.06-.94L8.5 2.5l-.94 2.06-2.06.94zm10 10l.94 2.06.94-2.06 2.06-.94-2.06-.94-.94-2.06-.94 2.06-2.06.94z\"/><path d=\"M17.41 7.96l-1.37-1.37c-.4-.4-.92-.59-1.43-.59-.52 0-1.04.2-1.43.59L10.3 9.45l-7.72 7.72c-.78.78-.78 2.05 0 2.83L4 21.41c.39.39.9.59 1.41.59.51 0 1.02-.2 1.41-.59l7.78-7.78 2.81-2.81c.8-.78.8-2.07 0-2.86zM5.41 20L4 18.59l7.72-7.72 1.47 1.35L5.41 20z\"/>\n",
              "  </svg>\n",
              "      </button>\n",
              "      \n",
              "  <style>\n",
              "    .colab-df-container {\n",
              "      display:flex;\n",
              "      flex-wrap:wrap;\n",
              "      gap: 12px;\n",
              "    }\n",
              "\n",
              "    .colab-df-convert {\n",
              "      background-color: #E8F0FE;\n",
              "      border: none;\n",
              "      border-radius: 50%;\n",
              "      cursor: pointer;\n",
              "      display: none;\n",
              "      fill: #1967D2;\n",
              "      height: 32px;\n",
              "      padding: 0 0 0 0;\n",
              "      width: 32px;\n",
              "    }\n",
              "\n",
              "    .colab-df-convert:hover {\n",
              "      background-color: #E2EBFA;\n",
              "      box-shadow: 0px 1px 2px rgba(60, 64, 67, 0.3), 0px 1px 3px 1px rgba(60, 64, 67, 0.15);\n",
              "      fill: #174EA6;\n",
              "    }\n",
              "\n",
              "    [theme=dark] .colab-df-convert {\n",
              "      background-color: #3B4455;\n",
              "      fill: #D2E3FC;\n",
              "    }\n",
              "\n",
              "    [theme=dark] .colab-df-convert:hover {\n",
              "      background-color: #434B5C;\n",
              "      box-shadow: 0px 1px 3px 1px rgba(0, 0, 0, 0.15);\n",
              "      filter: drop-shadow(0px 1px 2px rgba(0, 0, 0, 0.3));\n",
              "      fill: #FFFFFF;\n",
              "    }\n",
              "  </style>\n",
              "\n",
              "      <script>\n",
              "        const buttonEl =\n",
              "          document.querySelector('#df-a40ab1e8-59d7-4f0c-a50b-fa35737eb6f6 button.colab-df-convert');\n",
              "        buttonEl.style.display =\n",
              "          google.colab.kernel.accessAllowed ? 'block' : 'none';\n",
              "\n",
              "        async function convertToInteractive(key) {\n",
              "          const element = document.querySelector('#df-a40ab1e8-59d7-4f0c-a50b-fa35737eb6f6');\n",
              "          const dataTable =\n",
              "            await google.colab.kernel.invokeFunction('convertToInteractive',\n",
              "                                                     [key], {});\n",
              "          if (!dataTable) return;\n",
              "\n",
              "          const docLinkHtml = 'Like what you see? Visit the ' +\n",
              "            '<a target=\"_blank\" href=https://colab.research.google.com/notebooks/data_table.ipynb>data table notebook</a>'\n",
              "            + ' to learn more about interactive tables.';\n",
              "          element.innerHTML = '';\n",
              "          dataTable['output_type'] = 'display_data';\n",
              "          await google.colab.output.renderOutput(dataTable, element);\n",
              "          const docLink = document.createElement('div');\n",
              "          docLink.innerHTML = docLinkHtml;\n",
              "          element.appendChild(docLink);\n",
              "        }\n",
              "      </script>\n",
              "    </div>\n",
              "  </div>\n",
              "  "
            ]
          },
          "metadata": {},
          "execution_count": 319
        }
      ]
    },
    {
      "cell_type": "code",
      "source": [
        "intension = ['Personal', 'Family', 'Event', 'Organisation']\n",
        "l=[]\n",
        "for i in range(0, len(df['lat'])):\n",
        "  x = random.choice(intension)\n",
        "  l.append(x)\n"
      ],
      "metadata": {
        "id": "E6WyN7cQ-NxR"
      },
      "execution_count": 320,
      "outputs": []
    },
    {
      "cell_type": "code",
      "source": [
        "df['Event']=l\n",
        "l\n"
      ],
      "metadata": {
        "id": "aF9DD405-WIJ",
        "colab": {
          "base_uri": "https://localhost:8080/"
        },
        "outputId": "7cd42f12-de49-45e9-a21d-39af2738ef42"
      },
      "execution_count": 321,
      "outputs": [
        {
          "output_type": "execute_result",
          "data": {
            "text/plain": [
              "['Organisation',\n",
              " 'Organisation',\n",
              " 'Event',\n",
              " 'Event',\n",
              " 'Organisation',\n",
              " 'Event',\n",
              " 'Event',\n",
              " 'Event',\n",
              " 'Personal',\n",
              " 'Event',\n",
              " 'Organisation',\n",
              " 'Event',\n",
              " 'Personal',\n",
              " 'Family',\n",
              " 'Organisation',\n",
              " 'Personal',\n",
              " 'Family',\n",
              " 'Family',\n",
              " 'Personal',\n",
              " 'Organisation',\n",
              " 'Organisation',\n",
              " 'Family',\n",
              " 'Event',\n",
              " 'Organisation',\n",
              " 'Organisation',\n",
              " 'Personal',\n",
              " 'Personal',\n",
              " 'Event',\n",
              " 'Personal',\n",
              " 'Family',\n",
              " 'Event',\n",
              " 'Event',\n",
              " 'Organisation',\n",
              " 'Personal',\n",
              " 'Event',\n",
              " 'Family',\n",
              " 'Family',\n",
              " 'Event',\n",
              " 'Event',\n",
              " 'Family',\n",
              " 'Family',\n",
              " 'Family',\n",
              " 'Event',\n",
              " 'Family',\n",
              " 'Organisation',\n",
              " 'Personal',\n",
              " 'Personal',\n",
              " 'Personal',\n",
              " 'Personal',\n",
              " 'Organisation',\n",
              " 'Organisation',\n",
              " 'Organisation',\n",
              " 'Personal',\n",
              " 'Organisation',\n",
              " 'Organisation',\n",
              " 'Family',\n",
              " 'Family',\n",
              " 'Organisation',\n",
              " 'Family',\n",
              " 'Organisation',\n",
              " 'Family',\n",
              " 'Personal',\n",
              " 'Event',\n",
              " 'Organisation',\n",
              " 'Family',\n",
              " 'Personal',\n",
              " 'Organisation',\n",
              " 'Organisation',\n",
              " 'Personal',\n",
              " 'Family',\n",
              " 'Family',\n",
              " 'Family',\n",
              " 'Event',\n",
              " 'Family',\n",
              " 'Family',\n",
              " 'Organisation',\n",
              " 'Organisation',\n",
              " 'Event',\n",
              " 'Organisation',\n",
              " 'Organisation',\n",
              " 'Personal',\n",
              " 'Event',\n",
              " 'Family',\n",
              " 'Family',\n",
              " 'Event',\n",
              " 'Event',\n",
              " 'Organisation',\n",
              " 'Event',\n",
              " 'Event',\n",
              " 'Event',\n",
              " 'Family',\n",
              " 'Family',\n",
              " 'Event',\n",
              " 'Personal',\n",
              " 'Organisation',\n",
              " 'Personal',\n",
              " 'Family',\n",
              " 'Organisation',\n",
              " 'Event',\n",
              " 'Event']"
            ]
          },
          "metadata": {},
          "execution_count": 321
        }
      ]
    },
    {
      "cell_type": "code",
      "source": [
        "df.head()"
      ],
      "metadata": {
        "id": "cb-r1LdY9YFj",
        "colab": {
          "base_uri": "https://localhost:8080/",
          "height": 206
        },
        "outputId": "fb46367c-84e3-4cbe-9225-2bf069199751"
      },
      "execution_count": 322,
      "outputs": [
        {
          "output_type": "execute_result",
          "data": {
            "text/plain": [
              "         lat       long        Timestamp         Event\n",
              "0  19.001965  73.055221  3/23/2023 22:26  Organisation\n",
              "1  19.076743  72.951533   2/7/2023 17:59  Organisation\n",
              "2  19.328718  72.783555    3/3/2023 5:32         Event\n",
              "3  19.523080  73.200119  1/26/2023 19:32         Event\n",
              "4  19.354632  72.418512   1/9/2023 20:50  Organisation"
            ],
            "text/html": [
              "\n",
              "  <div id=\"df-66dcc655-1f61-4a79-a930-61307202dc97\">\n",
              "    <div class=\"colab-df-container\">\n",
              "      <div>\n",
              "<style scoped>\n",
              "    .dataframe tbody tr th:only-of-type {\n",
              "        vertical-align: middle;\n",
              "    }\n",
              "\n",
              "    .dataframe tbody tr th {\n",
              "        vertical-align: top;\n",
              "    }\n",
              "\n",
              "    .dataframe thead th {\n",
              "        text-align: right;\n",
              "    }\n",
              "</style>\n",
              "<table border=\"1\" class=\"dataframe\">\n",
              "  <thead>\n",
              "    <tr style=\"text-align: right;\">\n",
              "      <th></th>\n",
              "      <th>lat</th>\n",
              "      <th>long</th>\n",
              "      <th>Timestamp</th>\n",
              "      <th>Event</th>\n",
              "    </tr>\n",
              "  </thead>\n",
              "  <tbody>\n",
              "    <tr>\n",
              "      <th>0</th>\n",
              "      <td>19.001965</td>\n",
              "      <td>73.055221</td>\n",
              "      <td>3/23/2023 22:26</td>\n",
              "      <td>Organisation</td>\n",
              "    </tr>\n",
              "    <tr>\n",
              "      <th>1</th>\n",
              "      <td>19.076743</td>\n",
              "      <td>72.951533</td>\n",
              "      <td>2/7/2023 17:59</td>\n",
              "      <td>Organisation</td>\n",
              "    </tr>\n",
              "    <tr>\n",
              "      <th>2</th>\n",
              "      <td>19.328718</td>\n",
              "      <td>72.783555</td>\n",
              "      <td>3/3/2023 5:32</td>\n",
              "      <td>Event</td>\n",
              "    </tr>\n",
              "    <tr>\n",
              "      <th>3</th>\n",
              "      <td>19.523080</td>\n",
              "      <td>73.200119</td>\n",
              "      <td>1/26/2023 19:32</td>\n",
              "      <td>Event</td>\n",
              "    </tr>\n",
              "    <tr>\n",
              "      <th>4</th>\n",
              "      <td>19.354632</td>\n",
              "      <td>72.418512</td>\n",
              "      <td>1/9/2023 20:50</td>\n",
              "      <td>Organisation</td>\n",
              "    </tr>\n",
              "  </tbody>\n",
              "</table>\n",
              "</div>\n",
              "      <button class=\"colab-df-convert\" onclick=\"convertToInteractive('df-66dcc655-1f61-4a79-a930-61307202dc97')\"\n",
              "              title=\"Convert this dataframe to an interactive table.\"\n",
              "              style=\"display:none;\">\n",
              "        \n",
              "  <svg xmlns=\"http://www.w3.org/2000/svg\" height=\"24px\"viewBox=\"0 0 24 24\"\n",
              "       width=\"24px\">\n",
              "    <path d=\"M0 0h24v24H0V0z\" fill=\"none\"/>\n",
              "    <path d=\"M18.56 5.44l.94 2.06.94-2.06 2.06-.94-2.06-.94-.94-2.06-.94 2.06-2.06.94zm-11 1L8.5 8.5l.94-2.06 2.06-.94-2.06-.94L8.5 2.5l-.94 2.06-2.06.94zm10 10l.94 2.06.94-2.06 2.06-.94-2.06-.94-.94-2.06-.94 2.06-2.06.94z\"/><path d=\"M17.41 7.96l-1.37-1.37c-.4-.4-.92-.59-1.43-.59-.52 0-1.04.2-1.43.59L10.3 9.45l-7.72 7.72c-.78.78-.78 2.05 0 2.83L4 21.41c.39.39.9.59 1.41.59.51 0 1.02-.2 1.41-.59l7.78-7.78 2.81-2.81c.8-.78.8-2.07 0-2.86zM5.41 20L4 18.59l7.72-7.72 1.47 1.35L5.41 20z\"/>\n",
              "  </svg>\n",
              "      </button>\n",
              "      \n",
              "  <style>\n",
              "    .colab-df-container {\n",
              "      display:flex;\n",
              "      flex-wrap:wrap;\n",
              "      gap: 12px;\n",
              "    }\n",
              "\n",
              "    .colab-df-convert {\n",
              "      background-color: #E8F0FE;\n",
              "      border: none;\n",
              "      border-radius: 50%;\n",
              "      cursor: pointer;\n",
              "      display: none;\n",
              "      fill: #1967D2;\n",
              "      height: 32px;\n",
              "      padding: 0 0 0 0;\n",
              "      width: 32px;\n",
              "    }\n",
              "\n",
              "    .colab-df-convert:hover {\n",
              "      background-color: #E2EBFA;\n",
              "      box-shadow: 0px 1px 2px rgba(60, 64, 67, 0.3), 0px 1px 3px 1px rgba(60, 64, 67, 0.15);\n",
              "      fill: #174EA6;\n",
              "    }\n",
              "\n",
              "    [theme=dark] .colab-df-convert {\n",
              "      background-color: #3B4455;\n",
              "      fill: #D2E3FC;\n",
              "    }\n",
              "\n",
              "    [theme=dark] .colab-df-convert:hover {\n",
              "      background-color: #434B5C;\n",
              "      box-shadow: 0px 1px 3px 1px rgba(0, 0, 0, 0.15);\n",
              "      filter: drop-shadow(0px 1px 2px rgba(0, 0, 0, 0.3));\n",
              "      fill: #FFFFFF;\n",
              "    }\n",
              "  </style>\n",
              "\n",
              "      <script>\n",
              "        const buttonEl =\n",
              "          document.querySelector('#df-66dcc655-1f61-4a79-a930-61307202dc97 button.colab-df-convert');\n",
              "        buttonEl.style.display =\n",
              "          google.colab.kernel.accessAllowed ? 'block' : 'none';\n",
              "\n",
              "        async function convertToInteractive(key) {\n",
              "          const element = document.querySelector('#df-66dcc655-1f61-4a79-a930-61307202dc97');\n",
              "          const dataTable =\n",
              "            await google.colab.kernel.invokeFunction('convertToInteractive',\n",
              "                                                     [key], {});\n",
              "          if (!dataTable) return;\n",
              "\n",
              "          const docLinkHtml = 'Like what you see? Visit the ' +\n",
              "            '<a target=\"_blank\" href=https://colab.research.google.com/notebooks/data_table.ipynb>data table notebook</a>'\n",
              "            + ' to learn more about interactive tables.';\n",
              "          element.innerHTML = '';\n",
              "          dataTable['output_type'] = 'display_data';\n",
              "          await google.colab.output.renderOutput(dataTable, element);\n",
              "          const docLink = document.createElement('div');\n",
              "          docLink.innerHTML = docLinkHtml;\n",
              "          element.appendChild(docLink);\n",
              "        }\n",
              "      </script>\n",
              "    </div>\n",
              "  </div>\n",
              "  "
            ]
          },
          "metadata": {},
          "execution_count": 322
        }
      ]
    },
    {
      "cell_type": "code",
      "source": [
        "!pip install haversine"
      ],
      "metadata": {
        "id": "pZkk5-yU2qNk",
        "colab": {
          "base_uri": "https://localhost:8080/"
        },
        "outputId": "28f96f25-72a8-447d-d019-73a6d75ffe32"
      },
      "execution_count": 323,
      "outputs": [
        {
          "output_type": "stream",
          "name": "stdout",
          "text": [
            "Looking in indexes: https://pypi.org/simple, https://us-python.pkg.dev/colab-wheels/public/simple/\n",
            "Requirement already satisfied: haversine in /usr/local/lib/python3.9/dist-packages (2.8.0)\n"
          ]
        }
      ]
    },
    {
      "cell_type": "code",
      "source": [
        "\n",
        "# Extract latitude and longitude coordinates from the dataframe and store as numpy array\n",
        "coords = df[['lat', 'long']].values \n",
        "\n",
        "# Set the radius of the Earth in kilometers (for use in haversine distance calculation)\n",
        "kms_rad = 6371.088\n",
        "\n",
        "# Set the maximum distance between two points to be considered part of the same cluster\n",
        "# In this case, it is set to 50 kilometers, converted to radians using the Earth's radius\n",
        "epsilon = 100/ kms_rad\n",
        "\n",
        "# Perform DBSCAN clustering on the latitude and longitude coordinates using haversine distance metric\n",
        "# Require at least 50 points in a cluster to be considered a cluster\n",
        "db = DBSCAN(eps=epsilon, min_samples=5, metric=\"haversine\").fit(np.radians(coords))\n",
        "\n",
        "# Retrieve the cluster labels assigned by DBSCAN\n",
        "cluster_labels = db.labels_\n",
        "\n",
        "# Count the number of clusters found (excluding noise points with label -1)\n",
        "num_clusters = len(set(cluster_labels)) - 1\n",
        "\n",
        "# Print the total number of points and the number of clusters found\n",
        "print('Clustered ' + str(len(df)) + ' points to ' + str(num_clusters) + ' clusters.')\n"
      ],
      "metadata": {
        "id": "S1CU7yiU8ik4",
        "colab": {
          "base_uri": "https://localhost:8080/"
        },
        "outputId": "5925b624-66dc-4a0d-c6ac-0d915fa4f22f"
      },
      "execution_count": 324,
      "outputs": [
        {
          "output_type": "stream",
          "name": "stdout",
          "text": [
            "Clustered 100 points to 12 clusters.\n"
          ]
        }
      ]
    },
    {
      "cell_type": "code",
      "source": [
        "\n",
        "df['clusters'] = cluster_labels\n",
        "cluster_labels"
      ],
      "metadata": {
        "id": "5i_y6jNXcx3g",
        "colab": {
          "base_uri": "https://localhost:8080/"
        },
        "outputId": "0298f7dd-aec9-4f67-c07b-88cabda4f5c4"
      },
      "execution_count": 325,
      "outputs": [
        {
          "output_type": "execute_result",
          "data": {
            "text/plain": [
              "array([ 0,  0,  0,  0,  0,  0,  0,  0,  0,  0,  1,  1,  1,  1,  1,  1,  1,\n",
              "        1,  1,  1,  2,  2,  2,  2,  2,  2,  2,  2,  2,  2,  3,  3,  3,  3,\n",
              "        3,  3,  3,  3,  3,  3,  4,  4,  4,  4,  4,  4,  4,  4,  4,  4,  5,\n",
              "        5,  5,  5,  5,  6,  6,  6,  6,  6,  7,  7,  7,  7,  7,  0,  0,  0,\n",
              "        0,  0,  8,  8,  8,  8,  8,  9,  9,  9,  9,  9,  5,  5,  5,  5,  5,\n",
              "       10, 10, 10, 10, 10, 11, 11, 11, 11, 11, 12, 12, 12, 12, 12])"
            ]
          },
          "metadata": {},
          "execution_count": 325
        }
      ]
    },
    {
      "cell_type": "code",
      "source": [
        "a=(df['clusters'].unique().shape[0])\n",
        "a"
      ],
      "metadata": {
        "colab": {
          "base_uri": "https://localhost:8080/"
        },
        "id": "iAS89qaZ562E",
        "outputId": "390a21a6-01fd-41e2-b297-3725a9692733"
      },
      "execution_count": 326,
      "outputs": [
        {
          "output_type": "execute_result",
          "data": {
            "text/plain": [
              "13"
            ]
          },
          "metadata": {},
          "execution_count": 326
        }
      ]
    },
    {
      "cell_type": "code",
      "source": [
        "px.scatter(df, x=\"long\", y=\"lat\", color=\"clusters\")"
      ],
      "metadata": {
        "colab": {
          "base_uri": "https://localhost:8080/",
          "height": 542
        },
        "id": "CwAP1R5PTh4R",
        "outputId": "b7afc8a7-c8aa-493a-81ac-a0fb3783eb88"
      },
      "execution_count": 327,
      "outputs": [
        {
          "output_type": "display_data",
          "data": {
            "text/html": [
              "<html>\n",
              "<head><meta charset=\"utf-8\" /></head>\n",
              "<body>\n",
              "    <div>            <script src=\"https://cdnjs.cloudflare.com/ajax/libs/mathjax/2.7.5/MathJax.js?config=TeX-AMS-MML_SVG\"></script><script type=\"text/javascript\">if (window.MathJax && window.MathJax.Hub && window.MathJax.Hub.Config) {window.MathJax.Hub.Config({SVG: {font: \"STIX-Web\"}});}</script>                <script type=\"text/javascript\">window.PlotlyConfig = {MathJaxConfig: 'local'};</script>\n",
              "        <script src=\"https://cdn.plot.ly/plotly-2.18.2.min.js\"></script>                <div id=\"fc9d485d-3aa0-4658-97a4-36a05e81f73d\" class=\"plotly-graph-div\" style=\"height:525px; width:100%;\"></div>            <script type=\"text/javascript\">                                    window.PLOTLYENV=window.PLOTLYENV || {};                                    if (document.getElementById(\"fc9d485d-3aa0-4658-97a4-36a05e81f73d\")) {                    Plotly.newPlot(                        \"fc9d485d-3aa0-4658-97a4-36a05e81f73d\",                        [{\"hovertemplate\":\"long=%{x}<br>lat=%{y}<br>clusters=%{marker.color}<extra></extra>\",\"legendgroup\":\"\",\"marker\":{\"color\":[0,0,0,0,0,0,0,0,0,0,1,1,1,1,1,1,1,1,1,1,2,2,2,2,2,2,2,2,2,2,3,3,3,3,3,3,3,3,3,3,4,4,4,4,4,4,4,4,4,4,5,5,5,5,5,6,6,6,6,6,7,7,7,7,7,0,0,0,0,0,8,8,8,8,8,9,9,9,9,9,5,5,5,5,5,10,10,10,10,10,11,11,11,11,11,12,12,12,12,12],\"coloraxis\":\"coloraxis\",\"symbol\":\"circle\"},\"mode\":\"markers\",\"name\":\"\",\"orientation\":\"v\",\"showlegend\":false,\"x\":[73.05522097,72.95153348,72.78355512,73.20011926,72.41851168,72.97419028,72.73323823,72.87210515,72.89773587,73.06312133,88.69885555,88.47156363,88.14811667,88.62972593,88.28946569,88.1608101,88.70056726,88.58661538,88.4795709,87.99317524,77.71301816,77.31643286,77.19259394,77.48696253,77.46637295,77.22189434,77.4847716,77.62714867,77.09402569,76.88453417,78.00848832,78.18614926,78.94423846,78.55086546,78.11812671,78.66853758,78.23273677,77.98795805,78.15462529,78.29894579,77.39449623,77.37372929,77.1393437,77.26922457,77.9388109,77.65526403,77.39427144,77.8350108,77.32554609,77.9099768,86.56291365,85.95001848,86.52022747,86.29800721,86.72468279,86.14163228,85.68300353,85.34547229,86.05836236,85.95749729,83.13279237,83.46091017,83.28434576,83.35311389,83.03049883,73.47634461,73.72173911,73.6919959,73.59049,74.076855,80.53605417,80.10046415,80.05839246,79.94069074,79.86141898,85.44973162,85.5569294,85.46784964,85.76780784,85.48151088,86.54466301,87.38654246,86.48115647,86.85893062,87.32612957,74.83829137,75.02488677,74.40250644,74.74828707,74.76657949,76.23916586,75.9809065,75.77344899,75.95572775,75.44886157,90.38538603,90.04827466,89.99911147,90.67954291,90.7631316],\"xaxis\":\"x\",\"y\":[19.00196494,19.07674334,19.32871765,19.52308029,19.35463228,19.13614648,18.66309441,19.02746054,19.26960287,18.83983908,22.44166458,22.49214734,22.61482707,22.76420358,22.14715448,22.78623988,22.54211437,22.47784742,22.93897644,22.21983774,28.5805997,28.98153018,28.41133069,28.67974026,28.84725158,28.96688552,29.01575775,28.59673579,28.27649154,28.8485096,16.94469301,17.05144945,16.9923594,17.77695442,17.40474513,17.12153886,17.79341887,17.03786836,17.5094196,16.88366013,13.25409919,12.5788081,13.41738998,12.53900235,13.24513588,12.97255671,12.87879807,12.90632081,13.29669422,12.83382439,23.75440847,24.28180122,23.32303298,24.01218631,23.7488184,20.42361804,19.89439423,20.40951998,20.10087953,20.1579193,26.53926621,25.96902319,26.45758931,26.00186059,26.51044946,18.15064946,18.71606297,18.176494,18.08079093,18.29998413,26.13145176,26.95640029,26.23333464,26.89314454,26.30626242,26.45564055,26.19048634,26.18306889,26.55413607,26.41416753,23.24857708,23.70745612,23.90150047,23.98355159,23.76176118,33.85873103,33.91530929,33.8744381,33.8371589,34.33095138,26.65501051,27.26862249,26.57606235,26.91035498,26.48715734,23.66714127,23.54755228,23.92370379,24.13012077,23.52561393],\"yaxis\":\"y\",\"type\":\"scatter\"}],                        {\"template\":{\"data\":{\"histogram2dcontour\":[{\"type\":\"histogram2dcontour\",\"colorbar\":{\"outlinewidth\":0,\"ticks\":\"\"},\"colorscale\":[[0.0,\"#0d0887\"],[0.1111111111111111,\"#46039f\"],[0.2222222222222222,\"#7201a8\"],[0.3333333333333333,\"#9c179e\"],[0.4444444444444444,\"#bd3786\"],[0.5555555555555556,\"#d8576b\"],[0.6666666666666666,\"#ed7953\"],[0.7777777777777778,\"#fb9f3a\"],[0.8888888888888888,\"#fdca26\"],[1.0,\"#f0f921\"]]}],\"choropleth\":[{\"type\":\"choropleth\",\"colorbar\":{\"outlinewidth\":0,\"ticks\":\"\"}}],\"histogram2d\":[{\"type\":\"histogram2d\",\"colorbar\":{\"outlinewidth\":0,\"ticks\":\"\"},\"colorscale\":[[0.0,\"#0d0887\"],[0.1111111111111111,\"#46039f\"],[0.2222222222222222,\"#7201a8\"],[0.3333333333333333,\"#9c179e\"],[0.4444444444444444,\"#bd3786\"],[0.5555555555555556,\"#d8576b\"],[0.6666666666666666,\"#ed7953\"],[0.7777777777777778,\"#fb9f3a\"],[0.8888888888888888,\"#fdca26\"],[1.0,\"#f0f921\"]]}],\"heatmap\":[{\"type\":\"heatmap\",\"colorbar\":{\"outlinewidth\":0,\"ticks\":\"\"},\"colorscale\":[[0.0,\"#0d0887\"],[0.1111111111111111,\"#46039f\"],[0.2222222222222222,\"#7201a8\"],[0.3333333333333333,\"#9c179e\"],[0.4444444444444444,\"#bd3786\"],[0.5555555555555556,\"#d8576b\"],[0.6666666666666666,\"#ed7953\"],[0.7777777777777778,\"#fb9f3a\"],[0.8888888888888888,\"#fdca26\"],[1.0,\"#f0f921\"]]}],\"heatmapgl\":[{\"type\":\"heatmapgl\",\"colorbar\":{\"outlinewidth\":0,\"ticks\":\"\"},\"colorscale\":[[0.0,\"#0d0887\"],[0.1111111111111111,\"#46039f\"],[0.2222222222222222,\"#7201a8\"],[0.3333333333333333,\"#9c179e\"],[0.4444444444444444,\"#bd3786\"],[0.5555555555555556,\"#d8576b\"],[0.6666666666666666,\"#ed7953\"],[0.7777777777777778,\"#fb9f3a\"],[0.8888888888888888,\"#fdca26\"],[1.0,\"#f0f921\"]]}],\"contourcarpet\":[{\"type\":\"contourcarpet\",\"colorbar\":{\"outlinewidth\":0,\"ticks\":\"\"}}],\"contour\":[{\"type\":\"contour\",\"colorbar\":{\"outlinewidth\":0,\"ticks\":\"\"},\"colorscale\":[[0.0,\"#0d0887\"],[0.1111111111111111,\"#46039f\"],[0.2222222222222222,\"#7201a8\"],[0.3333333333333333,\"#9c179e\"],[0.4444444444444444,\"#bd3786\"],[0.5555555555555556,\"#d8576b\"],[0.6666666666666666,\"#ed7953\"],[0.7777777777777778,\"#fb9f3a\"],[0.8888888888888888,\"#fdca26\"],[1.0,\"#f0f921\"]]}],\"surface\":[{\"type\":\"surface\",\"colorbar\":{\"outlinewidth\":0,\"ticks\":\"\"},\"colorscale\":[[0.0,\"#0d0887\"],[0.1111111111111111,\"#46039f\"],[0.2222222222222222,\"#7201a8\"],[0.3333333333333333,\"#9c179e\"],[0.4444444444444444,\"#bd3786\"],[0.5555555555555556,\"#d8576b\"],[0.6666666666666666,\"#ed7953\"],[0.7777777777777778,\"#fb9f3a\"],[0.8888888888888888,\"#fdca26\"],[1.0,\"#f0f921\"]]}],\"mesh3d\":[{\"type\":\"mesh3d\",\"colorbar\":{\"outlinewidth\":0,\"ticks\":\"\"}}],\"scatter\":[{\"fillpattern\":{\"fillmode\":\"overlay\",\"size\":10,\"solidity\":0.2},\"type\":\"scatter\"}],\"parcoords\":[{\"type\":\"parcoords\",\"line\":{\"colorbar\":{\"outlinewidth\":0,\"ticks\":\"\"}}}],\"scatterpolargl\":[{\"type\":\"scatterpolargl\",\"marker\":{\"colorbar\":{\"outlinewidth\":0,\"ticks\":\"\"}}}],\"bar\":[{\"error_x\":{\"color\":\"#2a3f5f\"},\"error_y\":{\"color\":\"#2a3f5f\"},\"marker\":{\"line\":{\"color\":\"#E5ECF6\",\"width\":0.5},\"pattern\":{\"fillmode\":\"overlay\",\"size\":10,\"solidity\":0.2}},\"type\":\"bar\"}],\"scattergeo\":[{\"type\":\"scattergeo\",\"marker\":{\"colorbar\":{\"outlinewidth\":0,\"ticks\":\"\"}}}],\"scatterpolar\":[{\"type\":\"scatterpolar\",\"marker\":{\"colorbar\":{\"outlinewidth\":0,\"ticks\":\"\"}}}],\"histogram\":[{\"marker\":{\"pattern\":{\"fillmode\":\"overlay\",\"size\":10,\"solidity\":0.2}},\"type\":\"histogram\"}],\"scattergl\":[{\"type\":\"scattergl\",\"marker\":{\"colorbar\":{\"outlinewidth\":0,\"ticks\":\"\"}}}],\"scatter3d\":[{\"type\":\"scatter3d\",\"line\":{\"colorbar\":{\"outlinewidth\":0,\"ticks\":\"\"}},\"marker\":{\"colorbar\":{\"outlinewidth\":0,\"ticks\":\"\"}}}],\"scattermapbox\":[{\"type\":\"scattermapbox\",\"marker\":{\"colorbar\":{\"outlinewidth\":0,\"ticks\":\"\"}}}],\"scatterternary\":[{\"type\":\"scatterternary\",\"marker\":{\"colorbar\":{\"outlinewidth\":0,\"ticks\":\"\"}}}],\"scattercarpet\":[{\"type\":\"scattercarpet\",\"marker\":{\"colorbar\":{\"outlinewidth\":0,\"ticks\":\"\"}}}],\"carpet\":[{\"aaxis\":{\"endlinecolor\":\"#2a3f5f\",\"gridcolor\":\"white\",\"linecolor\":\"white\",\"minorgridcolor\":\"white\",\"startlinecolor\":\"#2a3f5f\"},\"baxis\":{\"endlinecolor\":\"#2a3f5f\",\"gridcolor\":\"white\",\"linecolor\":\"white\",\"minorgridcolor\":\"white\",\"startlinecolor\":\"#2a3f5f\"},\"type\":\"carpet\"}],\"table\":[{\"cells\":{\"fill\":{\"color\":\"#EBF0F8\"},\"line\":{\"color\":\"white\"}},\"header\":{\"fill\":{\"color\":\"#C8D4E3\"},\"line\":{\"color\":\"white\"}},\"type\":\"table\"}],\"barpolar\":[{\"marker\":{\"line\":{\"color\":\"#E5ECF6\",\"width\":0.5},\"pattern\":{\"fillmode\":\"overlay\",\"size\":10,\"solidity\":0.2}},\"type\":\"barpolar\"}],\"pie\":[{\"automargin\":true,\"type\":\"pie\"}]},\"layout\":{\"autotypenumbers\":\"strict\",\"colorway\":[\"#636efa\",\"#EF553B\",\"#00cc96\",\"#ab63fa\",\"#FFA15A\",\"#19d3f3\",\"#FF6692\",\"#B6E880\",\"#FF97FF\",\"#FECB52\"],\"font\":{\"color\":\"#2a3f5f\"},\"hovermode\":\"closest\",\"hoverlabel\":{\"align\":\"left\"},\"paper_bgcolor\":\"white\",\"plot_bgcolor\":\"#E5ECF6\",\"polar\":{\"bgcolor\":\"#E5ECF6\",\"angularaxis\":{\"gridcolor\":\"white\",\"linecolor\":\"white\",\"ticks\":\"\"},\"radialaxis\":{\"gridcolor\":\"white\",\"linecolor\":\"white\",\"ticks\":\"\"}},\"ternary\":{\"bgcolor\":\"#E5ECF6\",\"aaxis\":{\"gridcolor\":\"white\",\"linecolor\":\"white\",\"ticks\":\"\"},\"baxis\":{\"gridcolor\":\"white\",\"linecolor\":\"white\",\"ticks\":\"\"},\"caxis\":{\"gridcolor\":\"white\",\"linecolor\":\"white\",\"ticks\":\"\"}},\"coloraxis\":{\"colorbar\":{\"outlinewidth\":0,\"ticks\":\"\"}},\"colorscale\":{\"sequential\":[[0.0,\"#0d0887\"],[0.1111111111111111,\"#46039f\"],[0.2222222222222222,\"#7201a8\"],[0.3333333333333333,\"#9c179e\"],[0.4444444444444444,\"#bd3786\"],[0.5555555555555556,\"#d8576b\"],[0.6666666666666666,\"#ed7953\"],[0.7777777777777778,\"#fb9f3a\"],[0.8888888888888888,\"#fdca26\"],[1.0,\"#f0f921\"]],\"sequentialminus\":[[0.0,\"#0d0887\"],[0.1111111111111111,\"#46039f\"],[0.2222222222222222,\"#7201a8\"],[0.3333333333333333,\"#9c179e\"],[0.4444444444444444,\"#bd3786\"],[0.5555555555555556,\"#d8576b\"],[0.6666666666666666,\"#ed7953\"],[0.7777777777777778,\"#fb9f3a\"],[0.8888888888888888,\"#fdca26\"],[1.0,\"#f0f921\"]],\"diverging\":[[0,\"#8e0152\"],[0.1,\"#c51b7d\"],[0.2,\"#de77ae\"],[0.3,\"#f1b6da\"],[0.4,\"#fde0ef\"],[0.5,\"#f7f7f7\"],[0.6,\"#e6f5d0\"],[0.7,\"#b8e186\"],[0.8,\"#7fbc41\"],[0.9,\"#4d9221\"],[1,\"#276419\"]]},\"xaxis\":{\"gridcolor\":\"white\",\"linecolor\":\"white\",\"ticks\":\"\",\"title\":{\"standoff\":15},\"zerolinecolor\":\"white\",\"automargin\":true,\"zerolinewidth\":2},\"yaxis\":{\"gridcolor\":\"white\",\"linecolor\":\"white\",\"ticks\":\"\",\"title\":{\"standoff\":15},\"zerolinecolor\":\"white\",\"automargin\":true,\"zerolinewidth\":2},\"scene\":{\"xaxis\":{\"backgroundcolor\":\"#E5ECF6\",\"gridcolor\":\"white\",\"linecolor\":\"white\",\"showbackground\":true,\"ticks\":\"\",\"zerolinecolor\":\"white\",\"gridwidth\":2},\"yaxis\":{\"backgroundcolor\":\"#E5ECF6\",\"gridcolor\":\"white\",\"linecolor\":\"white\",\"showbackground\":true,\"ticks\":\"\",\"zerolinecolor\":\"white\",\"gridwidth\":2},\"zaxis\":{\"backgroundcolor\":\"#E5ECF6\",\"gridcolor\":\"white\",\"linecolor\":\"white\",\"showbackground\":true,\"ticks\":\"\",\"zerolinecolor\":\"white\",\"gridwidth\":2}},\"shapedefaults\":{\"line\":{\"color\":\"#2a3f5f\"}},\"annotationdefaults\":{\"arrowcolor\":\"#2a3f5f\",\"arrowhead\":0,\"arrowwidth\":1},\"geo\":{\"bgcolor\":\"white\",\"landcolor\":\"#E5ECF6\",\"subunitcolor\":\"white\",\"showland\":true,\"showlakes\":true,\"lakecolor\":\"white\"},\"title\":{\"x\":0.05},\"mapbox\":{\"style\":\"light\"}}},\"xaxis\":{\"anchor\":\"y\",\"domain\":[0.0,1.0],\"title\":{\"text\":\"long\"}},\"yaxis\":{\"anchor\":\"x\",\"domain\":[0.0,1.0],\"title\":{\"text\":\"lat\"}},\"coloraxis\":{\"colorbar\":{\"title\":{\"text\":\"clusters\"}},\"colorscale\":[[0.0,\"#0d0887\"],[0.1111111111111111,\"#46039f\"],[0.2222222222222222,\"#7201a8\"],[0.3333333333333333,\"#9c179e\"],[0.4444444444444444,\"#bd3786\"],[0.5555555555555556,\"#d8576b\"],[0.6666666666666666,\"#ed7953\"],[0.7777777777777778,\"#fb9f3a\"],[0.8888888888888888,\"#fdca26\"],[1.0,\"#f0f921\"]]},\"legend\":{\"tracegroupgap\":0},\"margin\":{\"t\":60}},                        {\"responsive\": true}                    ).then(function(){\n",
              "                            \n",
              "var gd = document.getElementById('fc9d485d-3aa0-4658-97a4-36a05e81f73d');\n",
              "var x = new MutationObserver(function (mutations, observer) {{\n",
              "        var display = window.getComputedStyle(gd).display;\n",
              "        if (!display || display === 'none') {{\n",
              "            console.log([gd, 'removed!']);\n",
              "            Plotly.purge(gd);\n",
              "            observer.disconnect();\n",
              "        }}\n",
              "}});\n",
              "\n",
              "// Listen for the removal of the full notebook cells\n",
              "var notebookContainer = gd.closest('#notebook-container');\n",
              "if (notebookContainer) {{\n",
              "    x.observe(notebookContainer, {childList: true});\n",
              "}}\n",
              "\n",
              "// Listen for the clearing of the current output cell\n",
              "var outputEl = gd.closest('.output');\n",
              "if (outputEl) {{\n",
              "    x.observe(outputEl, {childList: true});\n",
              "}}\n",
              "\n",
              "                        })                };                            </script>        </div>\n",
              "</body>\n",
              "</html>"
            ]
          },
          "metadata": {}
        }
      ]
    },
    {
      "cell_type": "code",
      "source": [
        "df['clusters'].value_counts().to_frame()"
      ],
      "metadata": {
        "id": "STGKXE9WPZ_4",
        "colab": {
          "base_uri": "https://localhost:8080/",
          "height": 457
        },
        "outputId": "e927f89a-3aba-44e6-e97c-ff70756426ed"
      },
      "execution_count": 328,
      "outputs": [
        {
          "output_type": "execute_result",
          "data": {
            "text/plain": [
              "    clusters\n",
              "0         15\n",
              "1         10\n",
              "2         10\n",
              "3         10\n",
              "4         10\n",
              "5         10\n",
              "6          5\n",
              "7          5\n",
              "8          5\n",
              "9          5\n",
              "10         5\n",
              "11         5\n",
              "12         5"
            ],
            "text/html": [
              "\n",
              "  <div id=\"df-f93957f7-1a7a-40bd-b613-5859971f2fbf\">\n",
              "    <div class=\"colab-df-container\">\n",
              "      <div>\n",
              "<style scoped>\n",
              "    .dataframe tbody tr th:only-of-type {\n",
              "        vertical-align: middle;\n",
              "    }\n",
              "\n",
              "    .dataframe tbody tr th {\n",
              "        vertical-align: top;\n",
              "    }\n",
              "\n",
              "    .dataframe thead th {\n",
              "        text-align: right;\n",
              "    }\n",
              "</style>\n",
              "<table border=\"1\" class=\"dataframe\">\n",
              "  <thead>\n",
              "    <tr style=\"text-align: right;\">\n",
              "      <th></th>\n",
              "      <th>clusters</th>\n",
              "    </tr>\n",
              "  </thead>\n",
              "  <tbody>\n",
              "    <tr>\n",
              "      <th>0</th>\n",
              "      <td>15</td>\n",
              "    </tr>\n",
              "    <tr>\n",
              "      <th>1</th>\n",
              "      <td>10</td>\n",
              "    </tr>\n",
              "    <tr>\n",
              "      <th>2</th>\n",
              "      <td>10</td>\n",
              "    </tr>\n",
              "    <tr>\n",
              "      <th>3</th>\n",
              "      <td>10</td>\n",
              "    </tr>\n",
              "    <tr>\n",
              "      <th>4</th>\n",
              "      <td>10</td>\n",
              "    </tr>\n",
              "    <tr>\n",
              "      <th>5</th>\n",
              "      <td>10</td>\n",
              "    </tr>\n",
              "    <tr>\n",
              "      <th>6</th>\n",
              "      <td>5</td>\n",
              "    </tr>\n",
              "    <tr>\n",
              "      <th>7</th>\n",
              "      <td>5</td>\n",
              "    </tr>\n",
              "    <tr>\n",
              "      <th>8</th>\n",
              "      <td>5</td>\n",
              "    </tr>\n",
              "    <tr>\n",
              "      <th>9</th>\n",
              "      <td>5</td>\n",
              "    </tr>\n",
              "    <tr>\n",
              "      <th>10</th>\n",
              "      <td>5</td>\n",
              "    </tr>\n",
              "    <tr>\n",
              "      <th>11</th>\n",
              "      <td>5</td>\n",
              "    </tr>\n",
              "    <tr>\n",
              "      <th>12</th>\n",
              "      <td>5</td>\n",
              "    </tr>\n",
              "  </tbody>\n",
              "</table>\n",
              "</div>\n",
              "      <button class=\"colab-df-convert\" onclick=\"convertToInteractive('df-f93957f7-1a7a-40bd-b613-5859971f2fbf')\"\n",
              "              title=\"Convert this dataframe to an interactive table.\"\n",
              "              style=\"display:none;\">\n",
              "        \n",
              "  <svg xmlns=\"http://www.w3.org/2000/svg\" height=\"24px\"viewBox=\"0 0 24 24\"\n",
              "       width=\"24px\">\n",
              "    <path d=\"M0 0h24v24H0V0z\" fill=\"none\"/>\n",
              "    <path d=\"M18.56 5.44l.94 2.06.94-2.06 2.06-.94-2.06-.94-.94-2.06-.94 2.06-2.06.94zm-11 1L8.5 8.5l.94-2.06 2.06-.94-2.06-.94L8.5 2.5l-.94 2.06-2.06.94zm10 10l.94 2.06.94-2.06 2.06-.94-2.06-.94-.94-2.06-.94 2.06-2.06.94z\"/><path d=\"M17.41 7.96l-1.37-1.37c-.4-.4-.92-.59-1.43-.59-.52 0-1.04.2-1.43.59L10.3 9.45l-7.72 7.72c-.78.78-.78 2.05 0 2.83L4 21.41c.39.39.9.59 1.41.59.51 0 1.02-.2 1.41-.59l7.78-7.78 2.81-2.81c.8-.78.8-2.07 0-2.86zM5.41 20L4 18.59l7.72-7.72 1.47 1.35L5.41 20z\"/>\n",
              "  </svg>\n",
              "      </button>\n",
              "      \n",
              "  <style>\n",
              "    .colab-df-container {\n",
              "      display:flex;\n",
              "      flex-wrap:wrap;\n",
              "      gap: 12px;\n",
              "    }\n",
              "\n",
              "    .colab-df-convert {\n",
              "      background-color: #E8F0FE;\n",
              "      border: none;\n",
              "      border-radius: 50%;\n",
              "      cursor: pointer;\n",
              "      display: none;\n",
              "      fill: #1967D2;\n",
              "      height: 32px;\n",
              "      padding: 0 0 0 0;\n",
              "      width: 32px;\n",
              "    }\n",
              "\n",
              "    .colab-df-convert:hover {\n",
              "      background-color: #E2EBFA;\n",
              "      box-shadow: 0px 1px 2px rgba(60, 64, 67, 0.3), 0px 1px 3px 1px rgba(60, 64, 67, 0.15);\n",
              "      fill: #174EA6;\n",
              "    }\n",
              "\n",
              "    [theme=dark] .colab-df-convert {\n",
              "      background-color: #3B4455;\n",
              "      fill: #D2E3FC;\n",
              "    }\n",
              "\n",
              "    [theme=dark] .colab-df-convert:hover {\n",
              "      background-color: #434B5C;\n",
              "      box-shadow: 0px 1px 3px 1px rgba(0, 0, 0, 0.15);\n",
              "      filter: drop-shadow(0px 1px 2px rgba(0, 0, 0, 0.3));\n",
              "      fill: #FFFFFF;\n",
              "    }\n",
              "  </style>\n",
              "\n",
              "      <script>\n",
              "        const buttonEl =\n",
              "          document.querySelector('#df-f93957f7-1a7a-40bd-b613-5859971f2fbf button.colab-df-convert');\n",
              "        buttonEl.style.display =\n",
              "          google.colab.kernel.accessAllowed ? 'block' : 'none';\n",
              "\n",
              "        async function convertToInteractive(key) {\n",
              "          const element = document.querySelector('#df-f93957f7-1a7a-40bd-b613-5859971f2fbf');\n",
              "          const dataTable =\n",
              "            await google.colab.kernel.invokeFunction('convertToInteractive',\n",
              "                                                     [key], {});\n",
              "          if (!dataTable) return;\n",
              "\n",
              "          const docLinkHtml = 'Like what you see? Visit the ' +\n",
              "            '<a target=\"_blank\" href=https://colab.research.google.com/notebooks/data_table.ipynb>data table notebook</a>'\n",
              "            + ' to learn more about interactive tables.';\n",
              "          element.innerHTML = '';\n",
              "          dataTable['output_type'] = 'display_data';\n",
              "          await google.colab.output.renderOutput(dataTable, element);\n",
              "          const docLink = document.createElement('div');\n",
              "          docLink.innerHTML = docLinkHtml;\n",
              "          element.appendChild(docLink);\n",
              "        }\n",
              "      </script>\n",
              "    </div>\n",
              "  </div>\n",
              "  "
            ]
          },
          "metadata": {},
          "execution_count": 328
        }
      ]
    },
    {
      "cell_type": "markdown",
      "source": [],
      "metadata": {
        "id": "p3ZSb23AIEGT"
      }
    },
    {
      "cell_type": "code",
      "source": [
        "temp = df['clusters']\n",
        "len(np.array(temp))\n"
      ],
      "metadata": {
        "id": "jENpgdlJGNLD",
        "colab": {
          "base_uri": "https://localhost:8080/"
        },
        "outputId": "d0c7ecf0-878b-4c2f-a6ab-56123e51c29e"
      },
      "execution_count": 329,
      "outputs": [
        {
          "output_type": "execute_result",
          "data": {
            "text/plain": [
              "100"
            ]
          },
          "metadata": {},
          "execution_count": 329
        }
      ]
    },
    {
      "cell_type": "code",
      "source": [
        "!pip install hmmlearn"
      ],
      "metadata": {
        "id": "2OuxyCWMKns-",
        "colab": {
          "base_uri": "https://localhost:8080/"
        },
        "outputId": "dbac2193-d026-480a-a5d3-0f1cf914fd63"
      },
      "execution_count": 330,
      "outputs": [
        {
          "output_type": "stream",
          "name": "stdout",
          "text": [
            "Looking in indexes: https://pypi.org/simple, https://us-python.pkg.dev/colab-wheels/public/simple/\n",
            "Requirement already satisfied: hmmlearn in /usr/local/lib/python3.9/dist-packages (0.2.8)\n",
            "Requirement already satisfied: scipy>=0.19 in /usr/local/lib/python3.9/dist-packages (from hmmlearn) (1.10.1)\n",
            "Requirement already satisfied: numpy>=1.10 in /usr/local/lib/python3.9/dist-packages (from hmmlearn) (1.22.4)\n",
            "Requirement already satisfied: scikit-learn>=0.16 in /usr/local/lib/python3.9/dist-packages (from hmmlearn) (1.2.2)\n",
            "Requirement already satisfied: joblib>=1.1.1 in /usr/local/lib/python3.9/dist-packages (from scikit-learn>=0.16->hmmlearn) (1.1.1)\n",
            "Requirement already satisfied: threadpoolctl>=2.0.0 in /usr/local/lib/python3.9/dist-packages (from scikit-learn>=0.16->hmmlearn) (3.1.0)\n"
          ]
        }
      ]
    },
    {
      "cell_type": "code",
      "source": [
        "! pip install haversine"
      ],
      "metadata": {
        "id": "Y1A7PpZyconc",
        "colab": {
          "base_uri": "https://localhost:8080/"
        },
        "outputId": "0f7167fc-52a8-48df-9321-e751f2c5630f"
      },
      "execution_count": 331,
      "outputs": [
        {
          "output_type": "stream",
          "name": "stdout",
          "text": [
            "Looking in indexes: https://pypi.org/simple, https://us-python.pkg.dev/colab-wheels/public/simple/\n",
            "Requirement already satisfied: haversine in /usr/local/lib/python3.9/dist-packages (2.8.0)\n"
          ]
        }
      ]
    },
    {
      "cell_type": "code",
      "source": [
        "# Import necessary libraries\n",
        "from shapely.geometry import MultiPoint\n",
        "from geopy.distance import great_circle\n",
        "\n",
        "# Define a function to get the centermost point of a cluster\n",
        "def get_centremost_point(cluster):\n",
        "    # Calculate the centroid of the cluster\n",
        "    centroid = (MultiPoint(cluster).centroid.x, MultiPoint(cluster).centroid.y)\n",
        "    \n",
        "    # Find the point in the cluster that is closest to the centroid\n",
        "    centermost_point = min(cluster, key=lambda point: great_circle(point, centroid).m)\n",
        "    \n",
        "    # Return the coordinates of the centermost point\n",
        "    return tuple(centermost_point)\n"
      ],
      "metadata": {
        "id": "OTok5X9qWewT"
      },
      "execution_count": 332,
      "outputs": []
    },
    {
      "cell_type": "code",
      "source": [
        " clusters = pd.Series([coords[cluster_labels == n] for n in range(num_clusters)])\n"
      ],
      "metadata": {
        "id": "yd8sz4_mePbj"
      },
      "execution_count": 333,
      "outputs": []
    },
    {
      "cell_type": "code",
      "source": [
        "# Apply the get_centremost_point function to each cluster and extract the coordinates of the centermost point\n",
        "centermost_points = clusters.map(get_centremost_point)\n",
        "\n",
        "# Unpack the coordinates into separate latitude and longitude tuples\n",
        "lats, longs = zip(*centermost_points)\n",
        "\n",
        "# Create a new DataFrame to hold the representative points\n",
        "rep_points = pd.DataFrame({\"lat\": lats, \"long\": longs})\n",
        "\n",
        "# Print the representative points DataFrame\n",
        "print(rep_points)\n"
      ],
      "metadata": {
        "id": "oWYnH62uXE7N",
        "colab": {
          "base_uri": "https://localhost:8080/"
        },
        "outputId": "5a668a9b-41ca-43b5-edbd-5b08204fd9d8"
      },
      "execution_count": 334,
      "outputs": [
        {
          "output_type": "stream",
          "name": "stdout",
          "text": [
            "          lat       long\n",
            "0   18.839839  73.063121\n",
            "1   22.492147  88.471564\n",
            "2   28.679740  77.486963\n",
            "3   17.051449  78.186149\n",
            "4   12.972557  77.655264\n",
            "5   23.748818  86.724683\n",
            "6   20.157919  85.957497\n",
            "7   26.457589  83.284346\n",
            "8   26.233335  80.058392\n",
            "9   26.414168  85.481511\n",
            "10  33.858731  74.838291\n",
            "11  26.910355  75.955728\n"
          ]
        }
      ]
    },
    {
      "cell_type": "code",
      "source": [
        "centroid_list = []\n",
        "for i in range(num_clusters):\n",
        "    centroid = (rep_points['lat'][i], rep_points['long'][i])\n",
        "    centroid_list.append(centroid)\n",
        "\n",
        "centroid_list"
      ],
      "metadata": {
        "id": "4jhPGwaCliT_",
        "colab": {
          "base_uri": "https://localhost:8080/"
        },
        "outputId": "9d098407-2c78-41d0-970d-cd058373e78e"
      },
      "execution_count": 335,
      "outputs": [
        {
          "output_type": "execute_result",
          "data": {
            "text/plain": [
              "[(18.83983908, 73.06312133),\n",
              " (22.49214734, 88.47156363),\n",
              " (28.67974026, 77.48696253),\n",
              " (17.05144945, 78.18614926),\n",
              " (12.97255671, 77.65526403),\n",
              " (23.7488184, 86.72468279),\n",
              " (20.1579193, 85.95749729),\n",
              " (26.45758931, 83.28434576),\n",
              " (26.23333464, 80.05839246),\n",
              " (26.41416753, 85.48151088),\n",
              " (33.85873103, 74.83829137),\n",
              " (26.91035498, 75.95572775)]"
            ]
          },
          "metadata": {},
          "execution_count": 335
        }
      ]
    },
    {
      "cell_type": "code",
      "source": [
        "import folium\n",
        "from haversine import haversine\n",
        "\n",
        "# Define the center of the map and the initial zoom level\n",
        "center = [20.5937, 78.9629]\n",
        "zoom = 4\n",
        "\n",
        "# Create the map object\n",
        "india_map = folium.Map(location=center, zoom_start=zoom)\n",
        "\n",
        "# Create a marker for the first location in centroid_list\n",
        "folium.Marker(location=[centroid_list[0][0], centroid_list[0][1]],popup='present Location').add_to(india_map)\n",
        "\n",
        "# Loop through each location in centroid_list\n",
        "for i in range(1, len(centroid_list)):\n",
        "    \n",
        "    # Calculate the distance between this location and the previous one\n",
        "    prev_location = (float(centroid_list[i-1][0]), float(centroid_list[i-1][1]))\n",
        "    curr_location = (float(centroid_list[i][0]), float(centroid_list[i][1]))\n",
        "    distance = haversine(prev_location, curr_location)\n",
        "    \n",
        "    # Create a tooltip text for the line connecting the locations\n",
        "    tooltip_text = f\"Distance from previous location: {distance:.2f} km\"\n",
        "    \n",
        "    # Create a polyline connecting the previous location to this location\n",
        "    line_coords = [prev_location, curr_location]\n",
        "    folium.PolyLine(locations=line_coords, color='blue', tooltip=tooltip_text).add_to(india_map)\n",
        "    \n",
        "    # Create a green marker for this location with the tooltip text\n",
        "    folium.Marker(location=[centroid_list[i][0], centroid_list[i][1]],\n",
        "                  icon=folium.Icon(color='green'),\n",
        "                  popup=tooltip_text).add_to(india_map)\n",
        "\n",
        "# Display the map\n",
        "india_map\n"
      ],
      "metadata": {
        "id": "E0L4ITiwhgpm",
        "colab": {
          "base_uri": "https://localhost:8080/",
          "height": 583
        },
        "outputId": "81dd5439-8802-4475-d944-ef85dad0b75f"
      },
      "execution_count": 336,
      "outputs": [
        {
          "output_type": "execute_result",
          "data": {
            "text/plain": [
              "<folium.folium.Map at 0x7f5fd7821970>"
            ],
            "text/html": [
              "<div style=\"width:100%;\"><div style=\"position:relative;width:100%;height:0;padding-bottom:60%;\"><span style=\"color:#565656\">Make this Notebook Trusted to load map: File -> Trust Notebook</span><iframe srcdoc=\"&lt;!DOCTYPE html&gt;\n",
              "&lt;html&gt;\n",
              "&lt;head&gt;\n",
              "    \n",
              "    &lt;meta http-equiv=&quot;content-type&quot; content=&quot;text/html; charset=UTF-8&quot; /&gt;\n",
              "    \n",
              "        &lt;script&gt;\n",
              "            L_NO_TOUCH = false;\n",
              "            L_DISABLE_3D = false;\n",
              "        &lt;/script&gt;\n",
              "    \n",
              "    &lt;style&gt;html, body {width: 100%;height: 100%;margin: 0;padding: 0;}&lt;/style&gt;\n",
              "    &lt;style&gt;#map {position:absolute;top:0;bottom:0;right:0;left:0;}&lt;/style&gt;\n",
              "    &lt;script src=&quot;https://cdn.jsdelivr.net/npm/leaflet@1.9.3/dist/leaflet.js&quot;&gt;&lt;/script&gt;\n",
              "    &lt;script src=&quot;https://code.jquery.com/jquery-1.12.4.min.js&quot;&gt;&lt;/script&gt;\n",
              "    &lt;script src=&quot;https://cdn.jsdelivr.net/npm/bootstrap@5.2.2/dist/js/bootstrap.bundle.min.js&quot;&gt;&lt;/script&gt;\n",
              "    &lt;script src=&quot;https://cdnjs.cloudflare.com/ajax/libs/Leaflet.awesome-markers/2.0.2/leaflet.awesome-markers.js&quot;&gt;&lt;/script&gt;\n",
              "    &lt;link rel=&quot;stylesheet&quot; href=&quot;https://cdn.jsdelivr.net/npm/leaflet@1.9.3/dist/leaflet.css&quot;/&gt;\n",
              "    &lt;link rel=&quot;stylesheet&quot; href=&quot;https://cdn.jsdelivr.net/npm/bootstrap@5.2.2/dist/css/bootstrap.min.css&quot;/&gt;\n",
              "    &lt;link rel=&quot;stylesheet&quot; href=&quot;https://netdna.bootstrapcdn.com/bootstrap/3.0.0/css/bootstrap.min.css&quot;/&gt;\n",
              "    &lt;link rel=&quot;stylesheet&quot; href=&quot;https://cdn.jsdelivr.net/npm/@fortawesome/fontawesome-free@6.2.0/css/all.min.css&quot;/&gt;\n",
              "    &lt;link rel=&quot;stylesheet&quot; href=&quot;https://cdnjs.cloudflare.com/ajax/libs/Leaflet.awesome-markers/2.0.2/leaflet.awesome-markers.css&quot;/&gt;\n",
              "    &lt;link rel=&quot;stylesheet&quot; href=&quot;https://cdn.jsdelivr.net/gh/python-visualization/folium/folium/templates/leaflet.awesome.rotate.min.css&quot;/&gt;\n",
              "    \n",
              "            &lt;meta name=&quot;viewport&quot; content=&quot;width=device-width,\n",
              "                initial-scale=1.0, maximum-scale=1.0, user-scalable=no&quot; /&gt;\n",
              "            &lt;style&gt;\n",
              "                #map_cf8811041e8ca1644eea85ed4ba1182b {\n",
              "                    position: relative;\n",
              "                    width: 100.0%;\n",
              "                    height: 100.0%;\n",
              "                    left: 0.0%;\n",
              "                    top: 0.0%;\n",
              "                }\n",
              "                .leaflet-container { font-size: 1rem; }\n",
              "            &lt;/style&gt;\n",
              "        \n",
              "&lt;/head&gt;\n",
              "&lt;body&gt;\n",
              "    \n",
              "    \n",
              "            &lt;div class=&quot;folium-map&quot; id=&quot;map_cf8811041e8ca1644eea85ed4ba1182b&quot; &gt;&lt;/div&gt;\n",
              "        \n",
              "&lt;/body&gt;\n",
              "&lt;script&gt;\n",
              "    \n",
              "    \n",
              "            var map_cf8811041e8ca1644eea85ed4ba1182b = L.map(\n",
              "                &quot;map_cf8811041e8ca1644eea85ed4ba1182b&quot;,\n",
              "                {\n",
              "                    center: [20.5937, 78.9629],\n",
              "                    crs: L.CRS.EPSG3857,\n",
              "                    zoom: 4,\n",
              "                    zoomControl: true,\n",
              "                    preferCanvas: false,\n",
              "                }\n",
              "            );\n",
              "\n",
              "            \n",
              "\n",
              "        \n",
              "    \n",
              "            var tile_layer_4cc4d72e843dfae9f2cd80a55e636a97 = L.tileLayer(\n",
              "                &quot;https://{s}.tile.openstreetmap.org/{z}/{x}/{y}.png&quot;,\n",
              "                {&quot;attribution&quot;: &quot;Data by \\u0026copy; \\u003ca target=\\&quot;_blank\\&quot; href=\\&quot;http://openstreetmap.org\\&quot;\\u003eOpenStreetMap\\u003c/a\\u003e, under \\u003ca target=\\&quot;_blank\\&quot; href=\\&quot;http://www.openstreetmap.org/copyright\\&quot;\\u003eODbL\\u003c/a\\u003e.&quot;, &quot;detectRetina&quot;: false, &quot;maxNativeZoom&quot;: 18, &quot;maxZoom&quot;: 18, &quot;minZoom&quot;: 0, &quot;noWrap&quot;: false, &quot;opacity&quot;: 1, &quot;subdomains&quot;: &quot;abc&quot;, &quot;tms&quot;: false}\n",
              "            ).addTo(map_cf8811041e8ca1644eea85ed4ba1182b);\n",
              "        \n",
              "    \n",
              "            var marker_c73ffdaace0977057d0b9c75cf17e20f = L.marker(\n",
              "                [18.83983908, 73.06312133],\n",
              "                {}\n",
              "            ).addTo(map_cf8811041e8ca1644eea85ed4ba1182b);\n",
              "        \n",
              "    \n",
              "        var popup_e64f931fee8d305d8125e2d366fd2c51 = L.popup({&quot;maxWidth&quot;: &quot;100%&quot;});\n",
              "\n",
              "        \n",
              "            \n",
              "                var html_1c50fc8df09c9e94b9a5097acea34ebc = $(`&lt;div id=&quot;html_1c50fc8df09c9e94b9a5097acea34ebc&quot; style=&quot;width: 100.0%; height: 100.0%;&quot;&gt;present Location&lt;/div&gt;`)[0];\n",
              "                popup_e64f931fee8d305d8125e2d366fd2c51.setContent(html_1c50fc8df09c9e94b9a5097acea34ebc);\n",
              "            \n",
              "        \n",
              "\n",
              "        marker_c73ffdaace0977057d0b9c75cf17e20f.bindPopup(popup_e64f931fee8d305d8125e2d366fd2c51)\n",
              "        ;\n",
              "\n",
              "        \n",
              "    \n",
              "    \n",
              "            var poly_line_2a4da4971da2feba95fee79a62edc4b9 = L.polyline(\n",
              "                [[18.83983908, 73.06312133], [22.49214734, 88.47156363]],\n",
              "                {&quot;bubblingMouseEvents&quot;: true, &quot;color&quot;: &quot;blue&quot;, &quot;dashArray&quot;: null, &quot;dashOffset&quot;: null, &quot;fill&quot;: false, &quot;fillColor&quot;: &quot;blue&quot;, &quot;fillOpacity&quot;: 0.2, &quot;fillRule&quot;: &quot;evenodd&quot;, &quot;lineCap&quot;: &quot;round&quot;, &quot;lineJoin&quot;: &quot;round&quot;, &quot;noClip&quot;: false, &quot;opacity&quot;: 1.0, &quot;smoothFactor&quot;: 1.0, &quot;stroke&quot;: true, &quot;weight&quot;: 3}\n",
              "            ).addTo(map_cf8811041e8ca1644eea85ed4ba1182b);\n",
              "        \n",
              "    \n",
              "            poly_line_2a4da4971da2feba95fee79a62edc4b9.bindTooltip(\n",
              "                `&lt;div&gt;\n",
              "                     Distance from previous location: 1652.77 km\n",
              "                 &lt;/div&gt;`,\n",
              "                {&quot;sticky&quot;: true}\n",
              "            );\n",
              "        \n",
              "    \n",
              "            var marker_51b6ed36a26ab0b7ba4f823f1f7354ca = L.marker(\n",
              "                [22.49214734, 88.47156363],\n",
              "                {}\n",
              "            ).addTo(map_cf8811041e8ca1644eea85ed4ba1182b);\n",
              "        \n",
              "    \n",
              "            var icon_40c2e196f245daa49781e6b88ba537a7 = L.AwesomeMarkers.icon(\n",
              "                {&quot;extraClasses&quot;: &quot;fa-rotate-0&quot;, &quot;icon&quot;: &quot;info-sign&quot;, &quot;iconColor&quot;: &quot;white&quot;, &quot;markerColor&quot;: &quot;green&quot;, &quot;prefix&quot;: &quot;glyphicon&quot;}\n",
              "            );\n",
              "            marker_51b6ed36a26ab0b7ba4f823f1f7354ca.setIcon(icon_40c2e196f245daa49781e6b88ba537a7);\n",
              "        \n",
              "    \n",
              "        var popup_e20475c6940e76e5dd700a77f4fa6f55 = L.popup({&quot;maxWidth&quot;: &quot;100%&quot;});\n",
              "\n",
              "        \n",
              "            \n",
              "                var html_56dc651b68504156b3d0b42c5ec9cdac = $(`&lt;div id=&quot;html_56dc651b68504156b3d0b42c5ec9cdac&quot; style=&quot;width: 100.0%; height: 100.0%;&quot;&gt;Distance from previous location: 1652.77 km&lt;/div&gt;`)[0];\n",
              "                popup_e20475c6940e76e5dd700a77f4fa6f55.setContent(html_56dc651b68504156b3d0b42c5ec9cdac);\n",
              "            \n",
              "        \n",
              "\n",
              "        marker_51b6ed36a26ab0b7ba4f823f1f7354ca.bindPopup(popup_e20475c6940e76e5dd700a77f4fa6f55)\n",
              "        ;\n",
              "\n",
              "        \n",
              "    \n",
              "    \n",
              "            var poly_line_0afe6f6422dbb1e5414b9d6ec953093c = L.polyline(\n",
              "                [[22.49214734, 88.47156363], [28.67974026, 77.48696253]],\n",
              "                {&quot;bubblingMouseEvents&quot;: true, &quot;color&quot;: &quot;blue&quot;, &quot;dashArray&quot;: null, &quot;dashOffset&quot;: null, &quot;fill&quot;: false, &quot;fillColor&quot;: &quot;blue&quot;, &quot;fillOpacity&quot;: 0.2, &quot;fillRule&quot;: &quot;evenodd&quot;, &quot;lineCap&quot;: &quot;round&quot;, &quot;lineJoin&quot;: &quot;round&quot;, &quot;noClip&quot;: false, &quot;opacity&quot;: 1.0, &quot;smoothFactor&quot;: 1.0, &quot;stroke&quot;: true, &quot;weight&quot;: 3}\n",
              "            ).addTo(map_cf8811041e8ca1644eea85ed4ba1182b);\n",
              "        \n",
              "    \n",
              "            poly_line_0afe6f6422dbb1e5414b9d6ec953093c.bindTooltip(\n",
              "                `&lt;div&gt;\n",
              "                     Distance from previous location: 1297.82 km\n",
              "                 &lt;/div&gt;`,\n",
              "                {&quot;sticky&quot;: true}\n",
              "            );\n",
              "        \n",
              "    \n",
              "            var marker_9205886ee7aca22388e1f1085162ef35 = L.marker(\n",
              "                [28.67974026, 77.48696253],\n",
              "                {}\n",
              "            ).addTo(map_cf8811041e8ca1644eea85ed4ba1182b);\n",
              "        \n",
              "    \n",
              "            var icon_19ba6f78e93f0db8e5fc542e4e277fce = L.AwesomeMarkers.icon(\n",
              "                {&quot;extraClasses&quot;: &quot;fa-rotate-0&quot;, &quot;icon&quot;: &quot;info-sign&quot;, &quot;iconColor&quot;: &quot;white&quot;, &quot;markerColor&quot;: &quot;green&quot;, &quot;prefix&quot;: &quot;glyphicon&quot;}\n",
              "            );\n",
              "            marker_9205886ee7aca22388e1f1085162ef35.setIcon(icon_19ba6f78e93f0db8e5fc542e4e277fce);\n",
              "        \n",
              "    \n",
              "        var popup_e6f00556d39a7a622eae187638699dbd = L.popup({&quot;maxWidth&quot;: &quot;100%&quot;});\n",
              "\n",
              "        \n",
              "            \n",
              "                var html_24926c9e62ee875516485caf11b9e980 = $(`&lt;div id=&quot;html_24926c9e62ee875516485caf11b9e980&quot; style=&quot;width: 100.0%; height: 100.0%;&quot;&gt;Distance from previous location: 1297.82 km&lt;/div&gt;`)[0];\n",
              "                popup_e6f00556d39a7a622eae187638699dbd.setContent(html_24926c9e62ee875516485caf11b9e980);\n",
              "            \n",
              "        \n",
              "\n",
              "        marker_9205886ee7aca22388e1f1085162ef35.bindPopup(popup_e6f00556d39a7a622eae187638699dbd)\n",
              "        ;\n",
              "\n",
              "        \n",
              "    \n",
              "    \n",
              "            var poly_line_36376a9f5c38614e66bae09b57a4ea24 = L.polyline(\n",
              "                [[28.67974026, 77.48696253], [17.05144945, 78.18614926]],\n",
              "                {&quot;bubblingMouseEvents&quot;: true, &quot;color&quot;: &quot;blue&quot;, &quot;dashArray&quot;: null, &quot;dashOffset&quot;: null, &quot;fill&quot;: false, &quot;fillColor&quot;: &quot;blue&quot;, &quot;fillOpacity&quot;: 0.2, &quot;fillRule&quot;: &quot;evenodd&quot;, &quot;lineCap&quot;: &quot;round&quot;, &quot;lineJoin&quot;: &quot;round&quot;, &quot;noClip&quot;: false, &quot;opacity&quot;: 1.0, &quot;smoothFactor&quot;: 1.0, &quot;stroke&quot;: true, &quot;weight&quot;: 3}\n",
              "            ).addTo(map_cf8811041e8ca1644eea85ed4ba1182b);\n",
              "        \n",
              "    \n",
              "            poly_line_36376a9f5c38614e66bae09b57a4ea24.bindTooltip(\n",
              "                `&lt;div&gt;\n",
              "                     Distance from previous location: 1294.98 km\n",
              "                 &lt;/div&gt;`,\n",
              "                {&quot;sticky&quot;: true}\n",
              "            );\n",
              "        \n",
              "    \n",
              "            var marker_85de03e6f8dcca63cea2ce62f0bca045 = L.marker(\n",
              "                [17.05144945, 78.18614926],\n",
              "                {}\n",
              "            ).addTo(map_cf8811041e8ca1644eea85ed4ba1182b);\n",
              "        \n",
              "    \n",
              "            var icon_c2a36a24e411d29367a429396985f261 = L.AwesomeMarkers.icon(\n",
              "                {&quot;extraClasses&quot;: &quot;fa-rotate-0&quot;, &quot;icon&quot;: &quot;info-sign&quot;, &quot;iconColor&quot;: &quot;white&quot;, &quot;markerColor&quot;: &quot;green&quot;, &quot;prefix&quot;: &quot;glyphicon&quot;}\n",
              "            );\n",
              "            marker_85de03e6f8dcca63cea2ce62f0bca045.setIcon(icon_c2a36a24e411d29367a429396985f261);\n",
              "        \n",
              "    \n",
              "        var popup_731bd10352ba67e521f6bf32dc87fd7d = L.popup({&quot;maxWidth&quot;: &quot;100%&quot;});\n",
              "\n",
              "        \n",
              "            \n",
              "                var html_9a75f06c7ff9f6c89dcef16cb179c0e9 = $(`&lt;div id=&quot;html_9a75f06c7ff9f6c89dcef16cb179c0e9&quot; style=&quot;width: 100.0%; height: 100.0%;&quot;&gt;Distance from previous location: 1294.98 km&lt;/div&gt;`)[0];\n",
              "                popup_731bd10352ba67e521f6bf32dc87fd7d.setContent(html_9a75f06c7ff9f6c89dcef16cb179c0e9);\n",
              "            \n",
              "        \n",
              "\n",
              "        marker_85de03e6f8dcca63cea2ce62f0bca045.bindPopup(popup_731bd10352ba67e521f6bf32dc87fd7d)\n",
              "        ;\n",
              "\n",
              "        \n",
              "    \n",
              "    \n",
              "            var poly_line_8d3fdf4d5702870a10918cc730e9b362 = L.polyline(\n",
              "                [[17.05144945, 78.18614926], [12.97255671, 77.65526403]],\n",
              "                {&quot;bubblingMouseEvents&quot;: true, &quot;color&quot;: &quot;blue&quot;, &quot;dashArray&quot;: null, &quot;dashOffset&quot;: null, &quot;fill&quot;: false, &quot;fillColor&quot;: &quot;blue&quot;, &quot;fillOpacity&quot;: 0.2, &quot;fillRule&quot;: &quot;evenodd&quot;, &quot;lineCap&quot;: &quot;round&quot;, &quot;lineJoin&quot;: &quot;round&quot;, &quot;noClip&quot;: false, &quot;opacity&quot;: 1.0, &quot;smoothFactor&quot;: 1.0, &quot;stroke&quot;: true, &quot;weight&quot;: 3}\n",
              "            ).addTo(map_cf8811041e8ca1644eea85ed4ba1182b);\n",
              "        \n",
              "    \n",
              "            poly_line_8d3fdf4d5702870a10918cc730e9b362.bindTooltip(\n",
              "                `&lt;div&gt;\n",
              "                     Distance from previous location: 457.12 km\n",
              "                 &lt;/div&gt;`,\n",
              "                {&quot;sticky&quot;: true}\n",
              "            );\n",
              "        \n",
              "    \n",
              "            var marker_cec892f20e0651bed129f8a623e5a279 = L.marker(\n",
              "                [12.97255671, 77.65526403],\n",
              "                {}\n",
              "            ).addTo(map_cf8811041e8ca1644eea85ed4ba1182b);\n",
              "        \n",
              "    \n",
              "            var icon_b1e8180e6b34f45420b2ce881908f3d1 = L.AwesomeMarkers.icon(\n",
              "                {&quot;extraClasses&quot;: &quot;fa-rotate-0&quot;, &quot;icon&quot;: &quot;info-sign&quot;, &quot;iconColor&quot;: &quot;white&quot;, &quot;markerColor&quot;: &quot;green&quot;, &quot;prefix&quot;: &quot;glyphicon&quot;}\n",
              "            );\n",
              "            marker_cec892f20e0651bed129f8a623e5a279.setIcon(icon_b1e8180e6b34f45420b2ce881908f3d1);\n",
              "        \n",
              "    \n",
              "        var popup_4a666deac9a97348118bea98c0df43a4 = L.popup({&quot;maxWidth&quot;: &quot;100%&quot;});\n",
              "\n",
              "        \n",
              "            \n",
              "                var html_29fd16bc55e99dc6ae25b96fc9248fca = $(`&lt;div id=&quot;html_29fd16bc55e99dc6ae25b96fc9248fca&quot; style=&quot;width: 100.0%; height: 100.0%;&quot;&gt;Distance from previous location: 457.12 km&lt;/div&gt;`)[0];\n",
              "                popup_4a666deac9a97348118bea98c0df43a4.setContent(html_29fd16bc55e99dc6ae25b96fc9248fca);\n",
              "            \n",
              "        \n",
              "\n",
              "        marker_cec892f20e0651bed129f8a623e5a279.bindPopup(popup_4a666deac9a97348118bea98c0df43a4)\n",
              "        ;\n",
              "\n",
              "        \n",
              "    \n",
              "    \n",
              "            var poly_line_c6e2116b5050af2cfb2e9fc691d9f11d = L.polyline(\n",
              "                [[12.97255671, 77.65526403], [23.7488184, 86.72468279]],\n",
              "                {&quot;bubblingMouseEvents&quot;: true, &quot;color&quot;: &quot;blue&quot;, &quot;dashArray&quot;: null, &quot;dashOffset&quot;: null, &quot;fill&quot;: false, &quot;fillColor&quot;: &quot;blue&quot;, &quot;fillOpacity&quot;: 0.2, &quot;fillRule&quot;: &quot;evenodd&quot;, &quot;lineCap&quot;: &quot;round&quot;, &quot;lineJoin&quot;: &quot;round&quot;, &quot;noClip&quot;: false, &quot;opacity&quot;: 1.0, &quot;smoothFactor&quot;: 1.0, &quot;stroke&quot;: true, &quot;weight&quot;: 3}\n",
              "            ).addTo(map_cf8811041e8ca1644eea85ed4ba1182b);\n",
              "        \n",
              "    \n",
              "            poly_line_c6e2116b5050af2cfb2e9fc691d9f11d.bindTooltip(\n",
              "                `&lt;div&gt;\n",
              "                     Distance from previous location: 1532.37 km\n",
              "                 &lt;/div&gt;`,\n",
              "                {&quot;sticky&quot;: true}\n",
              "            );\n",
              "        \n",
              "    \n",
              "            var marker_e9ee4d25674db5b2dd5286b706171e7c = L.marker(\n",
              "                [23.7488184, 86.72468279],\n",
              "                {}\n",
              "            ).addTo(map_cf8811041e8ca1644eea85ed4ba1182b);\n",
              "        \n",
              "    \n",
              "            var icon_7279946cb4a6dc0607af9710b3f502ba = L.AwesomeMarkers.icon(\n",
              "                {&quot;extraClasses&quot;: &quot;fa-rotate-0&quot;, &quot;icon&quot;: &quot;info-sign&quot;, &quot;iconColor&quot;: &quot;white&quot;, &quot;markerColor&quot;: &quot;green&quot;, &quot;prefix&quot;: &quot;glyphicon&quot;}\n",
              "            );\n",
              "            marker_e9ee4d25674db5b2dd5286b706171e7c.setIcon(icon_7279946cb4a6dc0607af9710b3f502ba);\n",
              "        \n",
              "    \n",
              "        var popup_f43b54e26a66ac1c4dbf6fec96368e41 = L.popup({&quot;maxWidth&quot;: &quot;100%&quot;});\n",
              "\n",
              "        \n",
              "            \n",
              "                var html_f5f715429850620506c7767993055551 = $(`&lt;div id=&quot;html_f5f715429850620506c7767993055551&quot; style=&quot;width: 100.0%; height: 100.0%;&quot;&gt;Distance from previous location: 1532.37 km&lt;/div&gt;`)[0];\n",
              "                popup_f43b54e26a66ac1c4dbf6fec96368e41.setContent(html_f5f715429850620506c7767993055551);\n",
              "            \n",
              "        \n",
              "\n",
              "        marker_e9ee4d25674db5b2dd5286b706171e7c.bindPopup(popup_f43b54e26a66ac1c4dbf6fec96368e41)\n",
              "        ;\n",
              "\n",
              "        \n",
              "    \n",
              "    \n",
              "            var poly_line_992ad76a0d3fd15f793dc9b85e68bd9c = L.polyline(\n",
              "                [[23.7488184, 86.72468279], [20.1579193, 85.95749729]],\n",
              "                {&quot;bubblingMouseEvents&quot;: true, &quot;color&quot;: &quot;blue&quot;, &quot;dashArray&quot;: null, &quot;dashOffset&quot;: null, &quot;fill&quot;: false, &quot;fillColor&quot;: &quot;blue&quot;, &quot;fillOpacity&quot;: 0.2, &quot;fillRule&quot;: &quot;evenodd&quot;, &quot;lineCap&quot;: &quot;round&quot;, &quot;lineJoin&quot;: &quot;round&quot;, &quot;noClip&quot;: false, &quot;opacity&quot;: 1.0, &quot;smoothFactor&quot;: 1.0, &quot;stroke&quot;: true, &quot;weight&quot;: 3}\n",
              "            ).addTo(map_cf8811041e8ca1644eea85ed4ba1182b);\n",
              "        \n",
              "    \n",
              "            poly_line_992ad76a0d3fd15f793dc9b85e68bd9c.bindTooltip(\n",
              "                `&lt;div&gt;\n",
              "                     Distance from previous location: 407.05 km\n",
              "                 &lt;/div&gt;`,\n",
              "                {&quot;sticky&quot;: true}\n",
              "            );\n",
              "        \n",
              "    \n",
              "            var marker_ff99dd94112f3aaf171f39a43de6c684 = L.marker(\n",
              "                [20.1579193, 85.95749729],\n",
              "                {}\n",
              "            ).addTo(map_cf8811041e8ca1644eea85ed4ba1182b);\n",
              "        \n",
              "    \n",
              "            var icon_64c89c80bf4f9674ecaad59d2a3286b8 = L.AwesomeMarkers.icon(\n",
              "                {&quot;extraClasses&quot;: &quot;fa-rotate-0&quot;, &quot;icon&quot;: &quot;info-sign&quot;, &quot;iconColor&quot;: &quot;white&quot;, &quot;markerColor&quot;: &quot;green&quot;, &quot;prefix&quot;: &quot;glyphicon&quot;}\n",
              "            );\n",
              "            marker_ff99dd94112f3aaf171f39a43de6c684.setIcon(icon_64c89c80bf4f9674ecaad59d2a3286b8);\n",
              "        \n",
              "    \n",
              "        var popup_e7076fa389fb889e397354dd11cca542 = L.popup({&quot;maxWidth&quot;: &quot;100%&quot;});\n",
              "\n",
              "        \n",
              "            \n",
              "                var html_7e3e9ee4e91a0900878ee119b5c8fdfe = $(`&lt;div id=&quot;html_7e3e9ee4e91a0900878ee119b5c8fdfe&quot; style=&quot;width: 100.0%; height: 100.0%;&quot;&gt;Distance from previous location: 407.05 km&lt;/div&gt;`)[0];\n",
              "                popup_e7076fa389fb889e397354dd11cca542.setContent(html_7e3e9ee4e91a0900878ee119b5c8fdfe);\n",
              "            \n",
              "        \n",
              "\n",
              "        marker_ff99dd94112f3aaf171f39a43de6c684.bindPopup(popup_e7076fa389fb889e397354dd11cca542)\n",
              "        ;\n",
              "\n",
              "        \n",
              "    \n",
              "    \n",
              "            var poly_line_cda2f820f543cf88a1fda976b3acff30 = L.polyline(\n",
              "                [[20.1579193, 85.95749729], [26.45758931, 83.28434576]],\n",
              "                {&quot;bubblingMouseEvents&quot;: true, &quot;color&quot;: &quot;blue&quot;, &quot;dashArray&quot;: null, &quot;dashOffset&quot;: null, &quot;fill&quot;: false, &quot;fillColor&quot;: &quot;blue&quot;, &quot;fillOpacity&quot;: 0.2, &quot;fillRule&quot;: &quot;evenodd&quot;, &quot;lineCap&quot;: &quot;round&quot;, &quot;lineJoin&quot;: &quot;round&quot;, &quot;noClip&quot;: false, &quot;opacity&quot;: 1.0, &quot;smoothFactor&quot;: 1.0, &quot;stroke&quot;: true, &quot;weight&quot;: 3}\n",
              "            ).addTo(map_cf8811041e8ca1644eea85ed4ba1182b);\n",
              "        \n",
              "    \n",
              "            poly_line_cda2f820f543cf88a1fda976b3acff30.bindTooltip(\n",
              "                `&lt;div&gt;\n",
              "                     Distance from previous location: 751.73 km\n",
              "                 &lt;/div&gt;`,\n",
              "                {&quot;sticky&quot;: true}\n",
              "            );\n",
              "        \n",
              "    \n",
              "            var marker_fb50de4aba610e6478478c64a5d0535e = L.marker(\n",
              "                [26.45758931, 83.28434576],\n",
              "                {}\n",
              "            ).addTo(map_cf8811041e8ca1644eea85ed4ba1182b);\n",
              "        \n",
              "    \n",
              "            var icon_cedd1bb2b1d48097f25d107177492d46 = L.AwesomeMarkers.icon(\n",
              "                {&quot;extraClasses&quot;: &quot;fa-rotate-0&quot;, &quot;icon&quot;: &quot;info-sign&quot;, &quot;iconColor&quot;: &quot;white&quot;, &quot;markerColor&quot;: &quot;green&quot;, &quot;prefix&quot;: &quot;glyphicon&quot;}\n",
              "            );\n",
              "            marker_fb50de4aba610e6478478c64a5d0535e.setIcon(icon_cedd1bb2b1d48097f25d107177492d46);\n",
              "        \n",
              "    \n",
              "        var popup_d734a70466506dfc5901b4ed9868632c = L.popup({&quot;maxWidth&quot;: &quot;100%&quot;});\n",
              "\n",
              "        \n",
              "            \n",
              "                var html_478a1143c4bdc1a1c743a4e9df96b6cd = $(`&lt;div id=&quot;html_478a1143c4bdc1a1c743a4e9df96b6cd&quot; style=&quot;width: 100.0%; height: 100.0%;&quot;&gt;Distance from previous location: 751.73 km&lt;/div&gt;`)[0];\n",
              "                popup_d734a70466506dfc5901b4ed9868632c.setContent(html_478a1143c4bdc1a1c743a4e9df96b6cd);\n",
              "            \n",
              "        \n",
              "\n",
              "        marker_fb50de4aba610e6478478c64a5d0535e.bindPopup(popup_d734a70466506dfc5901b4ed9868632c)\n",
              "        ;\n",
              "\n",
              "        \n",
              "    \n",
              "    \n",
              "            var poly_line_28c723700ff384cbdf8ef7f17ff6be82 = L.polyline(\n",
              "                [[26.45758931, 83.28434576], [26.23333464, 80.05839246]],\n",
              "                {&quot;bubblingMouseEvents&quot;: true, &quot;color&quot;: &quot;blue&quot;, &quot;dashArray&quot;: null, &quot;dashOffset&quot;: null, &quot;fill&quot;: false, &quot;fillColor&quot;: &quot;blue&quot;, &quot;fillOpacity&quot;: 0.2, &quot;fillRule&quot;: &quot;evenodd&quot;, &quot;lineCap&quot;: &quot;round&quot;, &quot;lineJoin&quot;: &quot;round&quot;, &quot;noClip&quot;: false, &quot;opacity&quot;: 1.0, &quot;smoothFactor&quot;: 1.0, &quot;stroke&quot;: true, &quot;weight&quot;: 3}\n",
              "            ).addTo(map_cf8811041e8ca1644eea85ed4ba1182b);\n",
              "        \n",
              "    \n",
              "            poly_line_28c723700ff384cbdf8ef7f17ff6be82.bindTooltip(\n",
              "                `&lt;div&gt;\n",
              "                     Distance from previous location: 322.41 km\n",
              "                 &lt;/div&gt;`,\n",
              "                {&quot;sticky&quot;: true}\n",
              "            );\n",
              "        \n",
              "    \n",
              "            var marker_9a645c1a6575ef1518c4ed914e642fba = L.marker(\n",
              "                [26.23333464, 80.05839246],\n",
              "                {}\n",
              "            ).addTo(map_cf8811041e8ca1644eea85ed4ba1182b);\n",
              "        \n",
              "    \n",
              "            var icon_b6aa53f98fdd0daedf3135f8ad0e2f34 = L.AwesomeMarkers.icon(\n",
              "                {&quot;extraClasses&quot;: &quot;fa-rotate-0&quot;, &quot;icon&quot;: &quot;info-sign&quot;, &quot;iconColor&quot;: &quot;white&quot;, &quot;markerColor&quot;: &quot;green&quot;, &quot;prefix&quot;: &quot;glyphicon&quot;}\n",
              "            );\n",
              "            marker_9a645c1a6575ef1518c4ed914e642fba.setIcon(icon_b6aa53f98fdd0daedf3135f8ad0e2f34);\n",
              "        \n",
              "    \n",
              "        var popup_7420f1eeb35f471f3e688b8021768b9a = L.popup({&quot;maxWidth&quot;: &quot;100%&quot;});\n",
              "\n",
              "        \n",
              "            \n",
              "                var html_2dfaf05ba994ffd3fae6ebd47f7e3a40 = $(`&lt;div id=&quot;html_2dfaf05ba994ffd3fae6ebd47f7e3a40&quot; style=&quot;width: 100.0%; height: 100.0%;&quot;&gt;Distance from previous location: 322.41 km&lt;/div&gt;`)[0];\n",
              "                popup_7420f1eeb35f471f3e688b8021768b9a.setContent(html_2dfaf05ba994ffd3fae6ebd47f7e3a40);\n",
              "            \n",
              "        \n",
              "\n",
              "        marker_9a645c1a6575ef1518c4ed914e642fba.bindPopup(popup_7420f1eeb35f471f3e688b8021768b9a)\n",
              "        ;\n",
              "\n",
              "        \n",
              "    \n",
              "    \n",
              "            var poly_line_0cc21434e76175d7abd7b953c4722ae1 = L.polyline(\n",
              "                [[26.23333464, 80.05839246], [26.41416753, 85.48151088]],\n",
              "                {&quot;bubblingMouseEvents&quot;: true, &quot;color&quot;: &quot;blue&quot;, &quot;dashArray&quot;: null, &quot;dashOffset&quot;: null, &quot;fill&quot;: false, &quot;fillColor&quot;: &quot;blue&quot;, &quot;fillOpacity&quot;: 0.2, &quot;fillRule&quot;: &quot;evenodd&quot;, &quot;lineCap&quot;: &quot;round&quot;, &quot;lineJoin&quot;: &quot;round&quot;, &quot;noClip&quot;: false, &quot;opacity&quot;: 1.0, &quot;smoothFactor&quot;: 1.0, &quot;stroke&quot;: true, &quot;weight&quot;: 3}\n",
              "            ).addTo(map_cf8811041e8ca1644eea85ed4ba1182b);\n",
              "        \n",
              "    \n",
              "            poly_line_0cc21434e76175d7abd7b953c4722ae1.bindTooltip(\n",
              "                `&lt;div&gt;\n",
              "                     Distance from previous location: 540.83 km\n",
              "                 &lt;/div&gt;`,\n",
              "                {&quot;sticky&quot;: true}\n",
              "            );\n",
              "        \n",
              "    \n",
              "            var marker_d91d0e56de5cfcab1275a0c489f556dc = L.marker(\n",
              "                [26.41416753, 85.48151088],\n",
              "                {}\n",
              "            ).addTo(map_cf8811041e8ca1644eea85ed4ba1182b);\n",
              "        \n",
              "    \n",
              "            var icon_d7f0ed62732a70322c1065ab667863c2 = L.AwesomeMarkers.icon(\n",
              "                {&quot;extraClasses&quot;: &quot;fa-rotate-0&quot;, &quot;icon&quot;: &quot;info-sign&quot;, &quot;iconColor&quot;: &quot;white&quot;, &quot;markerColor&quot;: &quot;green&quot;, &quot;prefix&quot;: &quot;glyphicon&quot;}\n",
              "            );\n",
              "            marker_d91d0e56de5cfcab1275a0c489f556dc.setIcon(icon_d7f0ed62732a70322c1065ab667863c2);\n",
              "        \n",
              "    \n",
              "        var popup_e64dea2d6da272f73c2ca01d73238a80 = L.popup({&quot;maxWidth&quot;: &quot;100%&quot;});\n",
              "\n",
              "        \n",
              "            \n",
              "                var html_1a50a6e76eb281d79125eeba52027c6b = $(`&lt;div id=&quot;html_1a50a6e76eb281d79125eeba52027c6b&quot; style=&quot;width: 100.0%; height: 100.0%;&quot;&gt;Distance from previous location: 540.83 km&lt;/div&gt;`)[0];\n",
              "                popup_e64dea2d6da272f73c2ca01d73238a80.setContent(html_1a50a6e76eb281d79125eeba52027c6b);\n",
              "            \n",
              "        \n",
              "\n",
              "        marker_d91d0e56de5cfcab1275a0c489f556dc.bindPopup(popup_e64dea2d6da272f73c2ca01d73238a80)\n",
              "        ;\n",
              "\n",
              "        \n",
              "    \n",
              "    \n",
              "            var poly_line_d3f0711d31d91c67ad12920a66a5f677 = L.polyline(\n",
              "                [[26.41416753, 85.48151088], [33.85873103, 74.83829137]],\n",
              "                {&quot;bubblingMouseEvents&quot;: true, &quot;color&quot;: &quot;blue&quot;, &quot;dashArray&quot;: null, &quot;dashOffset&quot;: null, &quot;fill&quot;: false, &quot;fillColor&quot;: &quot;blue&quot;, &quot;fillOpacity&quot;: 0.2, &quot;fillRule&quot;: &quot;evenodd&quot;, &quot;lineCap&quot;: &quot;round&quot;, &quot;lineJoin&quot;: &quot;round&quot;, &quot;noClip&quot;: false, &quot;opacity&quot;: 1.0, &quot;smoothFactor&quot;: 1.0, &quot;stroke&quot;: true, &quot;weight&quot;: 3}\n",
              "            ).addTo(map_cf8811041e8ca1644eea85ed4ba1182b);\n",
              "        \n",
              "    \n",
              "            poly_line_d3f0711d31d91c67ad12920a66a5f677.bindTooltip(\n",
              "                `&lt;div&gt;\n",
              "                     Distance from previous location: 1314.95 km\n",
              "                 &lt;/div&gt;`,\n",
              "                {&quot;sticky&quot;: true}\n",
              "            );\n",
              "        \n",
              "    \n",
              "            var marker_561a00615f5f6844ff0fd2ecd04421e9 = L.marker(\n",
              "                [33.85873103, 74.83829137],\n",
              "                {}\n",
              "            ).addTo(map_cf8811041e8ca1644eea85ed4ba1182b);\n",
              "        \n",
              "    \n",
              "            var icon_5bb23b32301c6aed5a563c4f04ba2f01 = L.AwesomeMarkers.icon(\n",
              "                {&quot;extraClasses&quot;: &quot;fa-rotate-0&quot;, &quot;icon&quot;: &quot;info-sign&quot;, &quot;iconColor&quot;: &quot;white&quot;, &quot;markerColor&quot;: &quot;green&quot;, &quot;prefix&quot;: &quot;glyphicon&quot;}\n",
              "            );\n",
              "            marker_561a00615f5f6844ff0fd2ecd04421e9.setIcon(icon_5bb23b32301c6aed5a563c4f04ba2f01);\n",
              "        \n",
              "    \n",
              "        var popup_18357ca558c2654eda374e91da0345ae = L.popup({&quot;maxWidth&quot;: &quot;100%&quot;});\n",
              "\n",
              "        \n",
              "            \n",
              "                var html_12986c1410c0f09e1f6f69feb3de49f8 = $(`&lt;div id=&quot;html_12986c1410c0f09e1f6f69feb3de49f8&quot; style=&quot;width: 100.0%; height: 100.0%;&quot;&gt;Distance from previous location: 1314.95 km&lt;/div&gt;`)[0];\n",
              "                popup_18357ca558c2654eda374e91da0345ae.setContent(html_12986c1410c0f09e1f6f69feb3de49f8);\n",
              "            \n",
              "        \n",
              "\n",
              "        marker_561a00615f5f6844ff0fd2ecd04421e9.bindPopup(popup_18357ca558c2654eda374e91da0345ae)\n",
              "        ;\n",
              "\n",
              "        \n",
              "    \n",
              "    \n",
              "            var poly_line_a35983613e60c625a125ee11b378237a = L.polyline(\n",
              "                [[33.85873103, 74.83829137], [26.91035498, 75.95572775]],\n",
              "                {&quot;bubblingMouseEvents&quot;: true, &quot;color&quot;: &quot;blue&quot;, &quot;dashArray&quot;: null, &quot;dashOffset&quot;: null, &quot;fill&quot;: false, &quot;fillColor&quot;: &quot;blue&quot;, &quot;fillOpacity&quot;: 0.2, &quot;fillRule&quot;: &quot;evenodd&quot;, &quot;lineCap&quot;: &quot;round&quot;, &quot;lineJoin&quot;: &quot;round&quot;, &quot;noClip&quot;: false, &quot;opacity&quot;: 1.0, &quot;smoothFactor&quot;: 1.0, &quot;stroke&quot;: true, &quot;weight&quot;: 3}\n",
              "            ).addTo(map_cf8811041e8ca1644eea85ed4ba1182b);\n",
              "        \n",
              "    \n",
              "            poly_line_a35983613e60c625a125ee11b378237a.bindTooltip(\n",
              "                `&lt;div&gt;\n",
              "                     Distance from previous location: 780.01 km\n",
              "                 &lt;/div&gt;`,\n",
              "                {&quot;sticky&quot;: true}\n",
              "            );\n",
              "        \n",
              "    \n",
              "            var marker_6dd0ced3c451c0f7d6b1c55e123208db = L.marker(\n",
              "                [26.91035498, 75.95572775],\n",
              "                {}\n",
              "            ).addTo(map_cf8811041e8ca1644eea85ed4ba1182b);\n",
              "        \n",
              "    \n",
              "            var icon_4c0e1fd07fc43d254e75d90cf1c71e49 = L.AwesomeMarkers.icon(\n",
              "                {&quot;extraClasses&quot;: &quot;fa-rotate-0&quot;, &quot;icon&quot;: &quot;info-sign&quot;, &quot;iconColor&quot;: &quot;white&quot;, &quot;markerColor&quot;: &quot;green&quot;, &quot;prefix&quot;: &quot;glyphicon&quot;}\n",
              "            );\n",
              "            marker_6dd0ced3c451c0f7d6b1c55e123208db.setIcon(icon_4c0e1fd07fc43d254e75d90cf1c71e49);\n",
              "        \n",
              "    \n",
              "        var popup_fd14d5cbcdc09e71d9932d48add90c02 = L.popup({&quot;maxWidth&quot;: &quot;100%&quot;});\n",
              "\n",
              "        \n",
              "            \n",
              "                var html_c65c41523ec4f71bc45a4d0a5fb65d97 = $(`&lt;div id=&quot;html_c65c41523ec4f71bc45a4d0a5fb65d97&quot; style=&quot;width: 100.0%; height: 100.0%;&quot;&gt;Distance from previous location: 780.01 km&lt;/div&gt;`)[0];\n",
              "                popup_fd14d5cbcdc09e71d9932d48add90c02.setContent(html_c65c41523ec4f71bc45a4d0a5fb65d97);\n",
              "            \n",
              "        \n",
              "\n",
              "        marker_6dd0ced3c451c0f7d6b1c55e123208db.bindPopup(popup_fd14d5cbcdc09e71d9932d48add90c02)\n",
              "        ;\n",
              "\n",
              "        \n",
              "    \n",
              "&lt;/script&gt;\n",
              "&lt;/html&gt;\" style=\"position:absolute;width:100%;height:100%;left:0;top:0;border:none !important;\" allowfullscreen webkitallowfullscreen mozallowfullscreen></iframe></div></div>"
            ]
          },
          "metadata": {},
          "execution_count": 336
        }
      ]
    },
    {
      "cell_type": "code",
      "source": [
        "centroid_list\n"
      ],
      "metadata": {
        "id": "e09i8K5lDCy0",
        "colab": {
          "base_uri": "https://localhost:8080/"
        },
        "outputId": "a433f78b-65d3-4843-819d-fc738bdaaca0"
      },
      "execution_count": 337,
      "outputs": [
        {
          "output_type": "execute_result",
          "data": {
            "text/plain": [
              "[(18.83983908, 73.06312133),\n",
              " (22.49214734, 88.47156363),\n",
              " (28.67974026, 77.48696253),\n",
              " (17.05144945, 78.18614926),\n",
              " (12.97255671, 77.65526403),\n",
              " (23.7488184, 86.72468279),\n",
              " (20.1579193, 85.95749729),\n",
              " (26.45758931, 83.28434576),\n",
              " (26.23333464, 80.05839246),\n",
              " (26.41416753, 85.48151088),\n",
              " (33.85873103, 74.83829137),\n",
              " (26.91035498, 75.95572775)]"
            ]
          },
          "metadata": {},
          "execution_count": 337
        }
      ]
    },
    {
      "cell_type": "code",
      "source": [
        "centroids= np.array(centroid_list)\n",
        "index = int(input(\"Enter the cluster number\"))\n",
        "# for i in centroid_list:\n",
        "  # index = np.where(centroids == ((i[0], i[1])))[0][0]\n",
        "centroidnearplaces=df.loc[(df['clusters'] == index)]\n",
        "preloc=[]\n",
        "preloc =centroidnearplaces.loc[:, ['lat', 'long',  'Event','clusters']]\n",
        "columname=['lat','long','Event','clusters']\n",
        "preloc = np.array(preloc)\n",
        "# dfc=pd.DataFrame(data=preloc,columns=columname)\n",
        "# print(dfc)"
      ],
      "metadata": {
        "id": "G1zeFWZgtS5d",
        "colab": {
          "base_uri": "https://localhost:8080/"
        },
        "outputId": "473aa39f-497e-4ec8-d1ca-3192c509a542"
      },
      "execution_count": 360,
      "outputs": [
        {
          "name": "stdout",
          "output_type": "stream",
          "text": [
            "Enter the cluster number4\n"
          ]
        }
      ]
    },
    {
      "cell_type": "code",
      "source": [
        "preloc=[]\n",
        "\n",
        "preloc =centroidnearplaces.loc[:, ['lat', 'long',  'Event']]\n",
        "preloc = np.array(preloc)"
      ],
      "metadata": {
        "id": "6JYlkx5maqf1"
      },
      "execution_count": 361,
      "outputs": []
    },
    {
      "cell_type": "code",
      "source": [
        "preloc"
      ],
      "metadata": {
        "id": "evqkdRWQlley",
        "colab": {
          "base_uri": "https://localhost:8080/"
        },
        "outputId": "70b87d45-e7c8-4e94-efa4-8b6aae0c2689"
      },
      "execution_count": 362,
      "outputs": [
        {
          "output_type": "execute_result",
          "data": {
            "text/plain": [
              "array([[13.25409919, 77.39449623, 'Family'],\n",
              "       [12.5788081, 77.37372929, 'Family'],\n",
              "       [13.41738998, 77.1393437, 'Event'],\n",
              "       [12.53900235, 77.26922457, 'Family'],\n",
              "       [13.24513588, 77.9388109, 'Organisation'],\n",
              "       [12.97255671, 77.65526403, 'Personal'],\n",
              "       [12.87879807, 77.39427144, 'Personal'],\n",
              "       [12.90632081, 77.8350108, 'Personal'],\n",
              "       [13.29669422, 77.32554609, 'Personal'],\n",
              "       [12.83382439, 77.9099768, 'Organisation']], dtype=object)"
            ]
          },
          "metadata": {},
          "execution_count": 362
        }
      ]
    },
    {
      "cell_type": "code",
      "source": [
        "event_list=[]\n",
        "event_list=centroidnearplaces.loc[:, ['Event']]\n",
        "event_list\n"
      ],
      "metadata": {
        "id": "FEN5FQHIavBq",
        "colab": {
          "base_uri": "https://localhost:8080/",
          "height": 206
        },
        "outputId": "9d4db777-4dbc-4250-9363-c71b1e981576"
      },
      "execution_count": 341,
      "outputs": [
        {
          "output_type": "execute_result",
          "data": {
            "text/plain": [
              "           Event\n",
              "90        Family\n",
              "91        Family\n",
              "92         Event\n",
              "93      Personal\n",
              "94  Organisation"
            ],
            "text/html": [
              "\n",
              "  <div id=\"df-b3f9b883-dfc0-46ad-a7d3-f7f81b20b34c\">\n",
              "    <div class=\"colab-df-container\">\n",
              "      <div>\n",
              "<style scoped>\n",
              "    .dataframe tbody tr th:only-of-type {\n",
              "        vertical-align: middle;\n",
              "    }\n",
              "\n",
              "    .dataframe tbody tr th {\n",
              "        vertical-align: top;\n",
              "    }\n",
              "\n",
              "    .dataframe thead th {\n",
              "        text-align: right;\n",
              "    }\n",
              "</style>\n",
              "<table border=\"1\" class=\"dataframe\">\n",
              "  <thead>\n",
              "    <tr style=\"text-align: right;\">\n",
              "      <th></th>\n",
              "      <th>Event</th>\n",
              "    </tr>\n",
              "  </thead>\n",
              "  <tbody>\n",
              "    <tr>\n",
              "      <th>90</th>\n",
              "      <td>Family</td>\n",
              "    </tr>\n",
              "    <tr>\n",
              "      <th>91</th>\n",
              "      <td>Family</td>\n",
              "    </tr>\n",
              "    <tr>\n",
              "      <th>92</th>\n",
              "      <td>Event</td>\n",
              "    </tr>\n",
              "    <tr>\n",
              "      <th>93</th>\n",
              "      <td>Personal</td>\n",
              "    </tr>\n",
              "    <tr>\n",
              "      <th>94</th>\n",
              "      <td>Organisation</td>\n",
              "    </tr>\n",
              "  </tbody>\n",
              "</table>\n",
              "</div>\n",
              "      <button class=\"colab-df-convert\" onclick=\"convertToInteractive('df-b3f9b883-dfc0-46ad-a7d3-f7f81b20b34c')\"\n",
              "              title=\"Convert this dataframe to an interactive table.\"\n",
              "              style=\"display:none;\">\n",
              "        \n",
              "  <svg xmlns=\"http://www.w3.org/2000/svg\" height=\"24px\"viewBox=\"0 0 24 24\"\n",
              "       width=\"24px\">\n",
              "    <path d=\"M0 0h24v24H0V0z\" fill=\"none\"/>\n",
              "    <path d=\"M18.56 5.44l.94 2.06.94-2.06 2.06-.94-2.06-.94-.94-2.06-.94 2.06-2.06.94zm-11 1L8.5 8.5l.94-2.06 2.06-.94-2.06-.94L8.5 2.5l-.94 2.06-2.06.94zm10 10l.94 2.06.94-2.06 2.06-.94-2.06-.94-.94-2.06-.94 2.06-2.06.94z\"/><path d=\"M17.41 7.96l-1.37-1.37c-.4-.4-.92-.59-1.43-.59-.52 0-1.04.2-1.43.59L10.3 9.45l-7.72 7.72c-.78.78-.78 2.05 0 2.83L4 21.41c.39.39.9.59 1.41.59.51 0 1.02-.2 1.41-.59l7.78-7.78 2.81-2.81c.8-.78.8-2.07 0-2.86zM5.41 20L4 18.59l7.72-7.72 1.47 1.35L5.41 20z\"/>\n",
              "  </svg>\n",
              "      </button>\n",
              "      \n",
              "  <style>\n",
              "    .colab-df-container {\n",
              "      display:flex;\n",
              "      flex-wrap:wrap;\n",
              "      gap: 12px;\n",
              "    }\n",
              "\n",
              "    .colab-df-convert {\n",
              "      background-color: #E8F0FE;\n",
              "      border: none;\n",
              "      border-radius: 50%;\n",
              "      cursor: pointer;\n",
              "      display: none;\n",
              "      fill: #1967D2;\n",
              "      height: 32px;\n",
              "      padding: 0 0 0 0;\n",
              "      width: 32px;\n",
              "    }\n",
              "\n",
              "    .colab-df-convert:hover {\n",
              "      background-color: #E2EBFA;\n",
              "      box-shadow: 0px 1px 2px rgba(60, 64, 67, 0.3), 0px 1px 3px 1px rgba(60, 64, 67, 0.15);\n",
              "      fill: #174EA6;\n",
              "    }\n",
              "\n",
              "    [theme=dark] .colab-df-convert {\n",
              "      background-color: #3B4455;\n",
              "      fill: #D2E3FC;\n",
              "    }\n",
              "\n",
              "    [theme=dark] .colab-df-convert:hover {\n",
              "      background-color: #434B5C;\n",
              "      box-shadow: 0px 1px 3px 1px rgba(0, 0, 0, 0.15);\n",
              "      filter: drop-shadow(0px 1px 2px rgba(0, 0, 0, 0.3));\n",
              "      fill: #FFFFFF;\n",
              "    }\n",
              "  </style>\n",
              "\n",
              "      <script>\n",
              "        const buttonEl =\n",
              "          document.querySelector('#df-b3f9b883-dfc0-46ad-a7d3-f7f81b20b34c button.colab-df-convert');\n",
              "        buttonEl.style.display =\n",
              "          google.colab.kernel.accessAllowed ? 'block' : 'none';\n",
              "\n",
              "        async function convertToInteractive(key) {\n",
              "          const element = document.querySelector('#df-b3f9b883-dfc0-46ad-a7d3-f7f81b20b34c');\n",
              "          const dataTable =\n",
              "            await google.colab.kernel.invokeFunction('convertToInteractive',\n",
              "                                                     [key], {});\n",
              "          if (!dataTable) return;\n",
              "\n",
              "          const docLinkHtml = 'Like what you see? Visit the ' +\n",
              "            '<a target=\"_blank\" href=https://colab.research.google.com/notebooks/data_table.ipynb>data table notebook</a>'\n",
              "            + ' to learn more about interactive tables.';\n",
              "          element.innerHTML = '';\n",
              "          dataTable['output_type'] = 'display_data';\n",
              "          await google.colab.output.renderOutput(dataTable, element);\n",
              "          const docLink = document.createElement('div');\n",
              "          docLink.innerHTML = docLinkHtml;\n",
              "          element.appendChild(docLink);\n",
              "        }\n",
              "      </script>\n",
              "    </div>\n",
              "  </div>\n",
              "  "
            ]
          },
          "metadata": {},
          "execution_count": 341
        }
      ]
    },
    {
      "cell_type": "code",
      "source": [
        "unique_count= centroidnearplaces['Event'].nunique()\n",
        "v=100/unique_count\n",
        "li=[]\n",
        "n=len(event_list)\n",
        "li.extend([v] * n)\n",
        "li"
      ],
      "metadata": {
        "id": "9o6sPmwGkRyj",
        "colab": {
          "base_uri": "https://localhost:8080/"
        },
        "outputId": "6bbf83f0-f662-4cbb-bb18-b32134acce3a"
      },
      "execution_count": 342,
      "outputs": [
        {
          "output_type": "execute_result",
          "data": {
            "text/plain": [
              "[25.0, 25.0, 25.0, 25.0, 25.0]"
            ]
          },
          "metadata": {},
          "execution_count": 342
        }
      ]
    },
    {
      "cell_type": "code",
      "source": [
        "!pip install requests"
      ],
      "metadata": {
        "colab": {
          "base_uri": "https://localhost:8080/"
        },
        "id": "Uts19iU3l2GJ",
        "outputId": "0de97252-3376-4551-ae7c-7f7cc1bb6f08"
      },
      "execution_count": 343,
      "outputs": [
        {
          "output_type": "stream",
          "name": "stdout",
          "text": [
            "Looking in indexes: https://pypi.org/simple, https://us-python.pkg.dev/colab-wheels/public/simple/\n",
            "Requirement already satisfied: requests in /usr/local/lib/python3.9/dist-packages (2.27.1)\n",
            "Requirement already satisfied: idna<4,>=2.5 in /usr/local/lib/python3.9/dist-packages (from requests) (3.4)\n",
            "Requirement already satisfied: charset-normalizer~=2.0.0 in /usr/local/lib/python3.9/dist-packages (from requests) (2.0.12)\n",
            "Requirement already satisfied: certifi>=2017.4.17 in /usr/local/lib/python3.9/dist-packages (from requests) (2022.12.7)\n",
            "Requirement already satisfied: urllib3<1.27,>=1.21.1 in /usr/local/lib/python3.9/dist-packages (from requests) (1.26.15)\n"
          ]
        }
      ]
    },
    {
      "cell_type": "code",
      "source": [
        "#@title Default title text\n",
        "import folium\n",
        "from haversine import haversine\n",
        "\n",
        "\n",
        "# Define the center of the map and the initial zoom level\n",
        "center = [20.5937, 78.9629]\n",
        "zoom = 4\n",
        "\n",
        "# Create the map object\n",
        "india_map = folium.Map(location=[20.5937, 78.9629], zoom_start=zoom)\n",
        "for i in preloc:\n",
        "    # access the latitude and longitude values for each row\n",
        "    \n",
        "    folium.Marker(location=[i[0],i[1] ],icon=folium.Icon(color='green')).add_to(india_map)\n",
        "# Display the map\n",
        "india_map\n",
        "\n"
      ],
      "metadata": {
        "id": "r_3uLneIauMe",
        "colab": {
          "base_uri": "https://localhost:8080/",
          "height": 583
        },
        "outputId": "6be13c10-094e-4488-fb68-df4c9caa24b0"
      },
      "execution_count": 363,
      "outputs": [
        {
          "output_type": "execute_result",
          "data": {
            "text/plain": [
              "<folium.folium.Map at 0x7f5fd7745fd0>"
            ],
            "text/html": [
              "<div style=\"width:100%;\"><div style=\"position:relative;width:100%;height:0;padding-bottom:60%;\"><span style=\"color:#565656\">Make this Notebook Trusted to load map: File -> Trust Notebook</span><iframe srcdoc=\"&lt;!DOCTYPE html&gt;\n",
              "&lt;html&gt;\n",
              "&lt;head&gt;\n",
              "    \n",
              "    &lt;meta http-equiv=&quot;content-type&quot; content=&quot;text/html; charset=UTF-8&quot; /&gt;\n",
              "    \n",
              "        &lt;script&gt;\n",
              "            L_NO_TOUCH = false;\n",
              "            L_DISABLE_3D = false;\n",
              "        &lt;/script&gt;\n",
              "    \n",
              "    &lt;style&gt;html, body {width: 100%;height: 100%;margin: 0;padding: 0;}&lt;/style&gt;\n",
              "    &lt;style&gt;#map {position:absolute;top:0;bottom:0;right:0;left:0;}&lt;/style&gt;\n",
              "    &lt;script src=&quot;https://cdn.jsdelivr.net/npm/leaflet@1.9.3/dist/leaflet.js&quot;&gt;&lt;/script&gt;\n",
              "    &lt;script src=&quot;https://code.jquery.com/jquery-1.12.4.min.js&quot;&gt;&lt;/script&gt;\n",
              "    &lt;script src=&quot;https://cdn.jsdelivr.net/npm/bootstrap@5.2.2/dist/js/bootstrap.bundle.min.js&quot;&gt;&lt;/script&gt;\n",
              "    &lt;script src=&quot;https://cdnjs.cloudflare.com/ajax/libs/Leaflet.awesome-markers/2.0.2/leaflet.awesome-markers.js&quot;&gt;&lt;/script&gt;\n",
              "    &lt;link rel=&quot;stylesheet&quot; href=&quot;https://cdn.jsdelivr.net/npm/leaflet@1.9.3/dist/leaflet.css&quot;/&gt;\n",
              "    &lt;link rel=&quot;stylesheet&quot; href=&quot;https://cdn.jsdelivr.net/npm/bootstrap@5.2.2/dist/css/bootstrap.min.css&quot;/&gt;\n",
              "    &lt;link rel=&quot;stylesheet&quot; href=&quot;https://netdna.bootstrapcdn.com/bootstrap/3.0.0/css/bootstrap.min.css&quot;/&gt;\n",
              "    &lt;link rel=&quot;stylesheet&quot; href=&quot;https://cdn.jsdelivr.net/npm/@fortawesome/fontawesome-free@6.2.0/css/all.min.css&quot;/&gt;\n",
              "    &lt;link rel=&quot;stylesheet&quot; href=&quot;https://cdnjs.cloudflare.com/ajax/libs/Leaflet.awesome-markers/2.0.2/leaflet.awesome-markers.css&quot;/&gt;\n",
              "    &lt;link rel=&quot;stylesheet&quot; href=&quot;https://cdn.jsdelivr.net/gh/python-visualization/folium/folium/templates/leaflet.awesome.rotate.min.css&quot;/&gt;\n",
              "    \n",
              "            &lt;meta name=&quot;viewport&quot; content=&quot;width=device-width,\n",
              "                initial-scale=1.0, maximum-scale=1.0, user-scalable=no&quot; /&gt;\n",
              "            &lt;style&gt;\n",
              "                #map_3547d2824f3cda042858c10625e4e7a1 {\n",
              "                    position: relative;\n",
              "                    width: 100.0%;\n",
              "                    height: 100.0%;\n",
              "                    left: 0.0%;\n",
              "                    top: 0.0%;\n",
              "                }\n",
              "                .leaflet-container { font-size: 1rem; }\n",
              "            &lt;/style&gt;\n",
              "        \n",
              "&lt;/head&gt;\n",
              "&lt;body&gt;\n",
              "    \n",
              "    \n",
              "            &lt;div class=&quot;folium-map&quot; id=&quot;map_3547d2824f3cda042858c10625e4e7a1&quot; &gt;&lt;/div&gt;\n",
              "        \n",
              "&lt;/body&gt;\n",
              "&lt;script&gt;\n",
              "    \n",
              "    \n",
              "            var map_3547d2824f3cda042858c10625e4e7a1 = L.map(\n",
              "                &quot;map_3547d2824f3cda042858c10625e4e7a1&quot;,\n",
              "                {\n",
              "                    center: [20.5937, 78.9629],\n",
              "                    crs: L.CRS.EPSG3857,\n",
              "                    zoom: 4,\n",
              "                    zoomControl: true,\n",
              "                    preferCanvas: false,\n",
              "                }\n",
              "            );\n",
              "\n",
              "            \n",
              "\n",
              "        \n",
              "    \n",
              "            var tile_layer_6d34f342dd418bb9bed984e29da82a61 = L.tileLayer(\n",
              "                &quot;https://{s}.tile.openstreetmap.org/{z}/{x}/{y}.png&quot;,\n",
              "                {&quot;attribution&quot;: &quot;Data by \\u0026copy; \\u003ca target=\\&quot;_blank\\&quot; href=\\&quot;http://openstreetmap.org\\&quot;\\u003eOpenStreetMap\\u003c/a\\u003e, under \\u003ca target=\\&quot;_blank\\&quot; href=\\&quot;http://www.openstreetmap.org/copyright\\&quot;\\u003eODbL\\u003c/a\\u003e.&quot;, &quot;detectRetina&quot;: false, &quot;maxNativeZoom&quot;: 18, &quot;maxZoom&quot;: 18, &quot;minZoom&quot;: 0, &quot;noWrap&quot;: false, &quot;opacity&quot;: 1, &quot;subdomains&quot;: &quot;abc&quot;, &quot;tms&quot;: false}\n",
              "            ).addTo(map_3547d2824f3cda042858c10625e4e7a1);\n",
              "        \n",
              "    \n",
              "            var marker_8948f69e86919b4e2c1a9bde7c3fc0b5 = L.marker(\n",
              "                [13.25409919, 77.39449623],\n",
              "                {}\n",
              "            ).addTo(map_3547d2824f3cda042858c10625e4e7a1);\n",
              "        \n",
              "    \n",
              "            var icon_ee34628aafcd2a03a83aa6bebd875661 = L.AwesomeMarkers.icon(\n",
              "                {&quot;extraClasses&quot;: &quot;fa-rotate-0&quot;, &quot;icon&quot;: &quot;info-sign&quot;, &quot;iconColor&quot;: &quot;white&quot;, &quot;markerColor&quot;: &quot;green&quot;, &quot;prefix&quot;: &quot;glyphicon&quot;}\n",
              "            );\n",
              "            marker_8948f69e86919b4e2c1a9bde7c3fc0b5.setIcon(icon_ee34628aafcd2a03a83aa6bebd875661);\n",
              "        \n",
              "    \n",
              "            var marker_9817d5395543d40944ae6fe74348020b = L.marker(\n",
              "                [12.5788081, 77.37372929],\n",
              "                {}\n",
              "            ).addTo(map_3547d2824f3cda042858c10625e4e7a1);\n",
              "        \n",
              "    \n",
              "            var icon_d07948d898a9dfc279cdcec3cbd722fe = L.AwesomeMarkers.icon(\n",
              "                {&quot;extraClasses&quot;: &quot;fa-rotate-0&quot;, &quot;icon&quot;: &quot;info-sign&quot;, &quot;iconColor&quot;: &quot;white&quot;, &quot;markerColor&quot;: &quot;green&quot;, &quot;prefix&quot;: &quot;glyphicon&quot;}\n",
              "            );\n",
              "            marker_9817d5395543d40944ae6fe74348020b.setIcon(icon_d07948d898a9dfc279cdcec3cbd722fe);\n",
              "        \n",
              "    \n",
              "            var marker_0168f7cb149d959695e83ae35c2ad439 = L.marker(\n",
              "                [13.41738998, 77.1393437],\n",
              "                {}\n",
              "            ).addTo(map_3547d2824f3cda042858c10625e4e7a1);\n",
              "        \n",
              "    \n",
              "            var icon_35c46891e789410d468dcae37042d108 = L.AwesomeMarkers.icon(\n",
              "                {&quot;extraClasses&quot;: &quot;fa-rotate-0&quot;, &quot;icon&quot;: &quot;info-sign&quot;, &quot;iconColor&quot;: &quot;white&quot;, &quot;markerColor&quot;: &quot;green&quot;, &quot;prefix&quot;: &quot;glyphicon&quot;}\n",
              "            );\n",
              "            marker_0168f7cb149d959695e83ae35c2ad439.setIcon(icon_35c46891e789410d468dcae37042d108);\n",
              "        \n",
              "    \n",
              "            var marker_ea3cb3df44dfa8c9e0bbd16ab6b8e99c = L.marker(\n",
              "                [12.53900235, 77.26922457],\n",
              "                {}\n",
              "            ).addTo(map_3547d2824f3cda042858c10625e4e7a1);\n",
              "        \n",
              "    \n",
              "            var icon_e939be53b3e1cea03954ef2ff6ed1c48 = L.AwesomeMarkers.icon(\n",
              "                {&quot;extraClasses&quot;: &quot;fa-rotate-0&quot;, &quot;icon&quot;: &quot;info-sign&quot;, &quot;iconColor&quot;: &quot;white&quot;, &quot;markerColor&quot;: &quot;green&quot;, &quot;prefix&quot;: &quot;glyphicon&quot;}\n",
              "            );\n",
              "            marker_ea3cb3df44dfa8c9e0bbd16ab6b8e99c.setIcon(icon_e939be53b3e1cea03954ef2ff6ed1c48);\n",
              "        \n",
              "    \n",
              "            var marker_03d0d01dca0d2bd2ba668c250bd93956 = L.marker(\n",
              "                [13.24513588, 77.9388109],\n",
              "                {}\n",
              "            ).addTo(map_3547d2824f3cda042858c10625e4e7a1);\n",
              "        \n",
              "    \n",
              "            var icon_dd05437df16e8c0d2cb34948c81bd438 = L.AwesomeMarkers.icon(\n",
              "                {&quot;extraClasses&quot;: &quot;fa-rotate-0&quot;, &quot;icon&quot;: &quot;info-sign&quot;, &quot;iconColor&quot;: &quot;white&quot;, &quot;markerColor&quot;: &quot;green&quot;, &quot;prefix&quot;: &quot;glyphicon&quot;}\n",
              "            );\n",
              "            marker_03d0d01dca0d2bd2ba668c250bd93956.setIcon(icon_dd05437df16e8c0d2cb34948c81bd438);\n",
              "        \n",
              "    \n",
              "            var marker_ca5dcac8100f577e341c32f91413aebb = L.marker(\n",
              "                [12.97255671, 77.65526403],\n",
              "                {}\n",
              "            ).addTo(map_3547d2824f3cda042858c10625e4e7a1);\n",
              "        \n",
              "    \n",
              "            var icon_ca572b298cbffd73796ddd51cf17fd6f = L.AwesomeMarkers.icon(\n",
              "                {&quot;extraClasses&quot;: &quot;fa-rotate-0&quot;, &quot;icon&quot;: &quot;info-sign&quot;, &quot;iconColor&quot;: &quot;white&quot;, &quot;markerColor&quot;: &quot;green&quot;, &quot;prefix&quot;: &quot;glyphicon&quot;}\n",
              "            );\n",
              "            marker_ca5dcac8100f577e341c32f91413aebb.setIcon(icon_ca572b298cbffd73796ddd51cf17fd6f);\n",
              "        \n",
              "    \n",
              "            var marker_77158d168ab438968c8fe0159e39dfcf = L.marker(\n",
              "                [12.87879807, 77.39427144],\n",
              "                {}\n",
              "            ).addTo(map_3547d2824f3cda042858c10625e4e7a1);\n",
              "        \n",
              "    \n",
              "            var icon_6df82033fb0c0161e974d8e5197dfff9 = L.AwesomeMarkers.icon(\n",
              "                {&quot;extraClasses&quot;: &quot;fa-rotate-0&quot;, &quot;icon&quot;: &quot;info-sign&quot;, &quot;iconColor&quot;: &quot;white&quot;, &quot;markerColor&quot;: &quot;green&quot;, &quot;prefix&quot;: &quot;glyphicon&quot;}\n",
              "            );\n",
              "            marker_77158d168ab438968c8fe0159e39dfcf.setIcon(icon_6df82033fb0c0161e974d8e5197dfff9);\n",
              "        \n",
              "    \n",
              "            var marker_d6f3d8d36a14118f8bc4b4a136dc1261 = L.marker(\n",
              "                [12.90632081, 77.8350108],\n",
              "                {}\n",
              "            ).addTo(map_3547d2824f3cda042858c10625e4e7a1);\n",
              "        \n",
              "    \n",
              "            var icon_bc83ba37c4d76a3d65cee4cffe84650d = L.AwesomeMarkers.icon(\n",
              "                {&quot;extraClasses&quot;: &quot;fa-rotate-0&quot;, &quot;icon&quot;: &quot;info-sign&quot;, &quot;iconColor&quot;: &quot;white&quot;, &quot;markerColor&quot;: &quot;green&quot;, &quot;prefix&quot;: &quot;glyphicon&quot;}\n",
              "            );\n",
              "            marker_d6f3d8d36a14118f8bc4b4a136dc1261.setIcon(icon_bc83ba37c4d76a3d65cee4cffe84650d);\n",
              "        \n",
              "    \n",
              "            var marker_3f1b6884a99e49df3f5bb6ea8efbc73d = L.marker(\n",
              "                [13.29669422, 77.32554609],\n",
              "                {}\n",
              "            ).addTo(map_3547d2824f3cda042858c10625e4e7a1);\n",
              "        \n",
              "    \n",
              "            var icon_1563f64ea4505f79b77507228facadc7 = L.AwesomeMarkers.icon(\n",
              "                {&quot;extraClasses&quot;: &quot;fa-rotate-0&quot;, &quot;icon&quot;: &quot;info-sign&quot;, &quot;iconColor&quot;: &quot;white&quot;, &quot;markerColor&quot;: &quot;green&quot;, &quot;prefix&quot;: &quot;glyphicon&quot;}\n",
              "            );\n",
              "            marker_3f1b6884a99e49df3f5bb6ea8efbc73d.setIcon(icon_1563f64ea4505f79b77507228facadc7);\n",
              "        \n",
              "    \n",
              "            var marker_cee69c62a3a238f7005de77319d0cde6 = L.marker(\n",
              "                [12.83382439, 77.9099768],\n",
              "                {}\n",
              "            ).addTo(map_3547d2824f3cda042858c10625e4e7a1);\n",
              "        \n",
              "    \n",
              "            var icon_52afc0547dbf2ec383677c75368b7fcc = L.AwesomeMarkers.icon(\n",
              "                {&quot;extraClasses&quot;: &quot;fa-rotate-0&quot;, &quot;icon&quot;: &quot;info-sign&quot;, &quot;iconColor&quot;: &quot;white&quot;, &quot;markerColor&quot;: &quot;green&quot;, &quot;prefix&quot;: &quot;glyphicon&quot;}\n",
              "            );\n",
              "            marker_cee69c62a3a238f7005de77319d0cde6.setIcon(icon_52afc0547dbf2ec383677c75368b7fcc);\n",
              "        \n",
              "&lt;/script&gt;\n",
              "&lt;/html&gt;\" style=\"position:absolute;width:100%;height:100%;left:0;top:0;border:none !important;\" allowfullscreen webkitallowfullscreen mozallowfullscreen></iframe></div></div>"
            ]
          },
          "metadata": {},
          "execution_count": 363
        }
      ]
    },
    {
      "cell_type": "code",
      "source": [
        "latlong=np.array(df[['lat','long']])"
      ],
      "metadata": {
        "id": "Jm7ndy7MdyuF"
      },
      "execution_count": 345,
      "outputs": []
    },
    {
      "cell_type": "code",
      "source": [
        "uniplaces=np.unique(latlong, axis = 0)"
      ],
      "metadata": {
        "id": "QrOePLLC0r3I"
      },
      "execution_count": 346,
      "outputs": []
    },
    {
      "cell_type": "code",
      "source": [
        "prob = np.zeros((len(uniplaces), len(uniplaces)), dtype = int)"
      ],
      "metadata": {
        "id": "_UZ71y5805xz"
      },
      "execution_count": 348,
      "outputs": []
    },
    {
      "cell_type": "code",
      "source": [
        "for i in range(0, len(latlong)-1):\n",
        "  num1 = np.where(uniplaces == [latlong[i]])[0][0]\n",
        "  num2 = np.where(uniplaces ==  latlong[i+1])[0][0]\n",
        "  prob[num1][num2] += 1\n",
        "prob\n"
      ],
      "metadata": {
        "id": "em0UMAYw0_Zf",
        "colab": {
          "base_uri": "https://localhost:8080/"
        },
        "outputId": "418034c0-98c4-4ba5-89ba-fbe67365bf88"
      },
      "execution_count": 358,
      "outputs": [
        {
          "output_type": "execute_result",
          "data": {
            "text/plain": [
              "array([[0, 0, 0, ..., 0, 0, 0],\n",
              "       [0, 0, 0, ..., 0, 0, 0],\n",
              "       [0, 0, 0, ..., 0, 0, 0],\n",
              "       ...,\n",
              "       [0, 0, 0, ..., 0, 0, 0],\n",
              "       [0, 0, 0, ..., 2, 0, 0],\n",
              "       [0, 0, 0, ..., 0, 0, 0]])"
            ]
          },
          "metadata": {},
          "execution_count": 358
        }
      ]
    },
    {
      "cell_type": "code",
      "source": [
        "temp = [np.sum(prob[i]) for i in range(0, len(prob))]\n",
        "#temp"
      ],
      "metadata": {
        "id": "EkPUkEWI1CIq"
      },
      "execution_count": null,
      "outputs": []
    },
    {
      "cell_type": "code",
      "source": [
        "ans = [np.where(prob[i] != 0)[0] for i in range(len(prob))]"
      ],
      "metadata": {
        "id": "wijpArsG1JSm"
      },
      "execution_count": 352,
      "outputs": []
    },
    {
      "cell_type": "code",
      "source": [
        "for i in range(0, len(prob)):\n",
        "  prob[i][ans[i]] = prob[i][ans[i]]/temp[i] \n",
        "\n",
        "prob"
      ],
      "metadata": {
        "id": "HNV2BSLe3qKQ",
        "colab": {
          "base_uri": "https://localhost:8080/"
        },
        "outputId": "a912f083-9fcb-4147-864d-00ccbef13847"
      },
      "execution_count": 353,
      "outputs": [
        {
          "output_type": "execute_result",
          "data": {
            "text/plain": [
              "array([[0, 0, 0, ..., 0, 0, 0],\n",
              "       [0, 0, 0, ..., 0, 0, 0],\n",
              "       [0, 0, 0, ..., 0, 0, 0],\n",
              "       ...,\n",
              "       [0, 0, 0, ..., 0, 0, 0],\n",
              "       [0, 0, 0, ..., 1, 0, 0],\n",
              "       [0, 0, 0, ..., 0, 0, 0]])"
            ]
          },
          "metadata": {},
          "execution_count": 353
        }
      ]
    },
    {
      "cell_type": "code",
      "source": [
        "def predict(date):\n",
        "   predictedplaces=[]\n",
        "   initial_index = np.where(df.Timestamp ==date)[0][0]\n",
        "   place = prob[initial_index]\n",
        "   for i in range(1, len(place)):\n",
        "     if place[i] != 0:\n",
        "      prediction_index = latlong[i+1]\n",
        "      predictedplaces.append(prediction_index)\n",
        "   return predictedplaces"
      ],
      "metadata": {
        "id": "VlDZsumF1T5b"
      },
      "execution_count": 373,
      "outputs": []
    },
    {
      "cell_type": "code",
      "source": [
        "li=predict(df.Timestamp[1])\n",
        "print(df.Timestamp[1])"
      ],
      "metadata": {
        "id": "zIbb4nX71X1R",
        "colab": {
          "base_uri": "https://localhost:8080/"
        },
        "outputId": "2111058e-2a78-40ae-9171-e62ef0f1e106"
      },
      "execution_count": 376,
      "outputs": [
        {
          "output_type": "stream",
          "name": "stdout",
          "text": [
            "2/7/2023 17:59\n"
          ]
        }
      ]
    },
    {
      "cell_type": "code",
      "source": [
        "li"
      ],
      "metadata": {
        "id": "8213mlAmuOSB",
        "colab": {
          "base_uri": "https://localhost:8080/"
        },
        "outputId": "e91bf977-c941-4b88-cc4c-046193d81bc6"
      },
      "execution_count": 377,
      "outputs": [
        {
          "output_type": "execute_result",
          "data": {
            "text/plain": [
              "[array([22.44166458, 88.69885555])]"
            ]
          },
          "metadata": {},
          "execution_count": 377
        }
      ]
    },
    {
      "cell_type": "code",
      "source": [
        "import folium\n",
        "from haversine import haversine\n",
        "\n",
        "# Define the center of the map and the initial zoom level\n",
        "center = [20.5937, 78.9629]\n",
        "zoom = 4\n",
        "india = folium.Map(location=[20.5937, 78.9629], zoom_start=zoom)\n",
        "folium.Marker(location=[li[0][0], li[0][1]]).add_to(india)\n",
        "\n",
        "# Loop through each location in centroid_list\n",
        "for i in range(1, len(li)):\n",
        "    \n",
        "    # Calculate the distance between this location and the previous one\n",
        "    prev_location = (float(li[i-1][0]), float(li[i-1][1]))\n",
        "    curr_location = (float(li[i][0]), float(li[i][1]))\n",
        "    distance = haversine(prev_location, curr_location)\n",
        "    \n",
        "    # Create a tooltip text for the line connecting the locations\n",
        "    tooltip_text = f\"Distance from previous location: {distance:.2f} km\"\n",
        "    \n",
        "    # Create a polyline connecting the previous location to this location\n",
        "    line_coords = [prev_location, curr_location]\n",
        "    folium.PolyLine(locations=line_coords, color='blue', tooltip=tooltip_text).add_to(india)\n",
        "    \n",
        "    # Create a green marker for this location with the tooltip text\n",
        "    folium.Marker(location=[li[i][0], li[i][1]],\n",
        "                  icon=folium.Icon(color='green'),\n",
        "                  popup=tooltip_text).add_to(india)\n",
        "\n",
        "# Display the map\n",
        "india"
      ],
      "metadata": {
        "id": "pLoyM5k1DXJz",
        "colab": {
          "base_uri": "https://localhost:8080/",
          "height": 583
        },
        "outputId": "9758367d-e467-44e6-b02d-ecf473852751"
      },
      "execution_count": 378,
      "outputs": [
        {
          "output_type": "execute_result",
          "data": {
            "text/plain": [
              "<folium.folium.Map at 0x7f5fd7786b20>"
            ],
            "text/html": [
              "<div style=\"width:100%;\"><div style=\"position:relative;width:100%;height:0;padding-bottom:60%;\"><span style=\"color:#565656\">Make this Notebook Trusted to load map: File -> Trust Notebook</span><iframe srcdoc=\"&lt;!DOCTYPE html&gt;\n",
              "&lt;html&gt;\n",
              "&lt;head&gt;\n",
              "    \n",
              "    &lt;meta http-equiv=&quot;content-type&quot; content=&quot;text/html; charset=UTF-8&quot; /&gt;\n",
              "    \n",
              "        &lt;script&gt;\n",
              "            L_NO_TOUCH = false;\n",
              "            L_DISABLE_3D = false;\n",
              "        &lt;/script&gt;\n",
              "    \n",
              "    &lt;style&gt;html, body {width: 100%;height: 100%;margin: 0;padding: 0;}&lt;/style&gt;\n",
              "    &lt;style&gt;#map {position:absolute;top:0;bottom:0;right:0;left:0;}&lt;/style&gt;\n",
              "    &lt;script src=&quot;https://cdn.jsdelivr.net/npm/leaflet@1.9.3/dist/leaflet.js&quot;&gt;&lt;/script&gt;\n",
              "    &lt;script src=&quot;https://code.jquery.com/jquery-1.12.4.min.js&quot;&gt;&lt;/script&gt;\n",
              "    &lt;script src=&quot;https://cdn.jsdelivr.net/npm/bootstrap@5.2.2/dist/js/bootstrap.bundle.min.js&quot;&gt;&lt;/script&gt;\n",
              "    &lt;script src=&quot;https://cdnjs.cloudflare.com/ajax/libs/Leaflet.awesome-markers/2.0.2/leaflet.awesome-markers.js&quot;&gt;&lt;/script&gt;\n",
              "    &lt;link rel=&quot;stylesheet&quot; href=&quot;https://cdn.jsdelivr.net/npm/leaflet@1.9.3/dist/leaflet.css&quot;/&gt;\n",
              "    &lt;link rel=&quot;stylesheet&quot; href=&quot;https://cdn.jsdelivr.net/npm/bootstrap@5.2.2/dist/css/bootstrap.min.css&quot;/&gt;\n",
              "    &lt;link rel=&quot;stylesheet&quot; href=&quot;https://netdna.bootstrapcdn.com/bootstrap/3.0.0/css/bootstrap.min.css&quot;/&gt;\n",
              "    &lt;link rel=&quot;stylesheet&quot; href=&quot;https://cdn.jsdelivr.net/npm/@fortawesome/fontawesome-free@6.2.0/css/all.min.css&quot;/&gt;\n",
              "    &lt;link rel=&quot;stylesheet&quot; href=&quot;https://cdnjs.cloudflare.com/ajax/libs/Leaflet.awesome-markers/2.0.2/leaflet.awesome-markers.css&quot;/&gt;\n",
              "    &lt;link rel=&quot;stylesheet&quot; href=&quot;https://cdn.jsdelivr.net/gh/python-visualization/folium/folium/templates/leaflet.awesome.rotate.min.css&quot;/&gt;\n",
              "    \n",
              "            &lt;meta name=&quot;viewport&quot; content=&quot;width=device-width,\n",
              "                initial-scale=1.0, maximum-scale=1.0, user-scalable=no&quot; /&gt;\n",
              "            &lt;style&gt;\n",
              "                #map_264e4370f32707c4f097677f550064d7 {\n",
              "                    position: relative;\n",
              "                    width: 100.0%;\n",
              "                    height: 100.0%;\n",
              "                    left: 0.0%;\n",
              "                    top: 0.0%;\n",
              "                }\n",
              "                .leaflet-container { font-size: 1rem; }\n",
              "            &lt;/style&gt;\n",
              "        \n",
              "&lt;/head&gt;\n",
              "&lt;body&gt;\n",
              "    \n",
              "    \n",
              "            &lt;div class=&quot;folium-map&quot; id=&quot;map_264e4370f32707c4f097677f550064d7&quot; &gt;&lt;/div&gt;\n",
              "        \n",
              "&lt;/body&gt;\n",
              "&lt;script&gt;\n",
              "    \n",
              "    \n",
              "            var map_264e4370f32707c4f097677f550064d7 = L.map(\n",
              "                &quot;map_264e4370f32707c4f097677f550064d7&quot;,\n",
              "                {\n",
              "                    center: [20.5937, 78.9629],\n",
              "                    crs: L.CRS.EPSG3857,\n",
              "                    zoom: 4,\n",
              "                    zoomControl: true,\n",
              "                    preferCanvas: false,\n",
              "                }\n",
              "            );\n",
              "\n",
              "            \n",
              "\n",
              "        \n",
              "    \n",
              "            var tile_layer_efd1f8293ad40defc0da8e4b6cbf5a1a = L.tileLayer(\n",
              "                &quot;https://{s}.tile.openstreetmap.org/{z}/{x}/{y}.png&quot;,\n",
              "                {&quot;attribution&quot;: &quot;Data by \\u0026copy; \\u003ca target=\\&quot;_blank\\&quot; href=\\&quot;http://openstreetmap.org\\&quot;\\u003eOpenStreetMap\\u003c/a\\u003e, under \\u003ca target=\\&quot;_blank\\&quot; href=\\&quot;http://www.openstreetmap.org/copyright\\&quot;\\u003eODbL\\u003c/a\\u003e.&quot;, &quot;detectRetina&quot;: false, &quot;maxNativeZoom&quot;: 18, &quot;maxZoom&quot;: 18, &quot;minZoom&quot;: 0, &quot;noWrap&quot;: false, &quot;opacity&quot;: 1, &quot;subdomains&quot;: &quot;abc&quot;, &quot;tms&quot;: false}\n",
              "            ).addTo(map_264e4370f32707c4f097677f550064d7);\n",
              "        \n",
              "    \n",
              "            var marker_347f8652e7d4d063ff6f68cf8fcfff3f = L.marker(\n",
              "                [22.44166458, 88.69885555],\n",
              "                {}\n",
              "            ).addTo(map_264e4370f32707c4f097677f550064d7);\n",
              "        \n",
              "&lt;/script&gt;\n",
              "&lt;/html&gt;\" style=\"position:absolute;width:100%;height:100%;left:0;top:0;border:none !important;\" allowfullscreen webkitallowfullscreen mozallowfullscreen></iframe></div></div>"
            ]
          },
          "metadata": {},
          "execution_count": 378
        }
      ]
    },
    {
      "cell_type": "code",
      "source": [],
      "metadata": {
        "id": "qE-knLkFHFS0"
      },
      "execution_count": null,
      "outputs": []
    }
  ]
}